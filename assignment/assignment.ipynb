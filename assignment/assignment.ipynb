{
 "cells": [
  {
   "cell_type": "markdown",
   "id": "f6fbe566",
   "metadata": {},
   "source": [
    "---\n",
    "# Assignment: Data Visualization using a Visualization Library\n",
    "---\n",
    "\n",
    "#### In this assignment, you will conduct an exploratory data analysis with visualizations on an Olympic Athletes dataset.\n",
    "\n",
    "How to use this Notebook:\n",
    "-  Firstly, make sure you have completed [1. Setup](#1-setup).\n",
    "-  Secondly, complete [Task 1: Preprocessing](#task-1-preprocessing).\n",
    "-  Then, you can complete [Task 2: Summary Statistics](#task-2-summary-statistics) to [Task 6: Map Visualizations](#task-6-map-visualizations) in any order.\n",
    "-  Lastly, complete [Task 7: Submission](#task-7-submission).\n",
    "\n",
    "The various tasks contain Notebook cells with `TODO`s.\n",
    "- You need to complete all `TODO`s.\n",
    "\n",
    "Assignment files and folders.\n",
    "- The file `assignment.ipynb` is this Notebook.\n",
    "- The folder `data` contains:\n",
    "  - 4 `.csv` files with the data for this assignment.\n",
    "  - A `verify.pkl` file you can use to verify your solution in [Task 1.1 Data Loading, Data Fusion, Data Cleaning, and Feature Engineering](#task-11-data-loading-data-fusion-data-cleaning-and-feature-engineering).\n",
    "- The folder `figures` contains:\n",
    "  - 19 `.png` figures you can use to verify your solutions to the visualization tasks in [Task 3: Distribution Visualizations](#task-3-distribution-visualizations) to [Task 6: Map Visualizations](#task-6-map-visualizations).\n",
    "  - Your visualizations need to be similar, but not identical to, the sample visualizations.\n",
    "  - The sample visualizations are provided as an aid so that you know what to aim for.\n",
    "\n",
    "This Notebook contains:\n",
    "\n",
    "- [1. Setup](#1-setup)\n",
    "  - [Python Virtual Environment](#python-virtual-environment)\n",
    "  - [Python and Pip Version](#python-and-pip-version)\n",
    "  - [Python Packages](#python-packages)\n",
    "  - [Python Modules](#python-modules)\n",
    "  - [Pandas Configuration](#pandas-configuration)\n",
    "  - [Dataset](#dataset)\n",
    "- [Task 1: Preprocessing](#task-1-preprocessing)\n",
    "  - [Task 1.1 Data Loading, Data Fusion, Data Cleaning, and Feature Engineering](#task-11-data-loading-data-fusion-data-cleaning-and-feature-engineering)\n",
    "  - [Task 1.2 Feature Measurement Scales](#task-12-feature-measurement-scales)\n",
    "- [Task 2: Summary Statistics](#task-2-summary-statistics)\n",
    "  - [Task 2.1 Missing Values](#task-21-missing-values)\n",
    "  - [Task 2.2 Unique Values](#task-22-unique-values)\n",
    "  - [Task 2.3 Value Counts](#task-23-value-counts)\n",
    "  - [Task 2.4 Central Tendency and Spread](#task-24-central-tendency-and-spread)\n",
    "  - [Task 2.5 Outliers](#task-25-outliers)\n",
    "- [Task 3: Distribution Visualizations](#task-3-distribution-visualizations)\n",
    "  - [Task 3.1 Visualize the Distribution of Male and Female Athletes](#task-31-visualize-the-distribution-of-male-and-female-athletes)\n",
    "  - [Task 3.2 Visualize the Distribution of Athletes' Age](#task-32-visualize-the-distribution-of-athletes-age)\n",
    "  - [Task 3.3 Visualize the Distribution of Athletes' Height](#task-33-visualize-the-distribution-of-athletes-height)\n",
    "  - [Task 3.4 Visualize the Distribution of Athletes' Weight](#task-34-visualize-the-distribution-of-athletes-weight)\n",
    "  - [Task 3.5 Visualize the Distribution in Height of Male and Female Athletes](#task-35-visualize-the-distribution-in-height-of-male-and-female-athletes)\n",
    "  - [Task 3.6 Visualize the Height per Type of Medal for Male and Female Athletes](#task-36-visualize-the-height-per-type-of-medal-for-male-and-female-athletes)\n",
    "  - [Task 3.7 Visualize the Weight per Type of Medal for Male and Female Athletes](#task-37-visualize-the-weight-per-type-of-medal-for-male-and-female-athletes)\n",
    "  - [Task 3.8 Visualize Height per Type of Medal for Male and Female Athletes Faceted by Season](#task-38-visualize-height-per-type-of-medal-for-male-and-female-athletes-faceted-by-season)\n",
    "  - [Task 3.9 Visualize the Average Age per Sport](#task-39-visualize-the-average-age-per-sport)\n",
    "  - [Task 3.10 Visualize the Top 10 Countries (Regions) with Most Total Medals](#task-310-visualize-the-top-10-countries-regions-with-most-total-medals)\n",
    "  - [Task 3.11 Visualize the Top 10 Atheletes by Total Awarded Medals](#task-311-visualize-the-top-10-atheletes-by-total-awarded-medals)\n",
    "  - [Task 3.12 Visualize the Age, Height and Weight Distribution per Type of Medal](#task-312-visualize-the-age-height-and-weight-distribution-per-type-of-medal)\n",
    "  - [Task 3.13 Interpret a Box Plot's Visual Elements](#task-313-interpret-a-box-plots-visual-elements)\n",
    "- [Task 4: Trend Visualizations](#task-4-trend-visualizations)\n",
    "  - [Task 4.1 Visualize Body Mass Index (BMI) Over Time](#task-41-visualize-body-mass-index-bmi-over-time)\n",
    "  - [Task 4.2 Visualize Gender (Sex) Participation Over Time](#task-42-visualize-gender-sex-participation-over-time)\n",
    "- [Task 5: Correlation Visualizations](#task-5-correlation-visualizations)\n",
    "  - [Task 5.1 Visualize Pairwise Correlations of Athlete's Age, Height and Weight per Sex with a `pairplot`](#task-51-visualize-pairwise-correlations-of-athletes-age-height-and-weight-per-sex-with-a-pairplot)\n",
    "  - [Task 5.2 Visualize Pairwise Correlations of the Numeric Features with a `heatmap`](#task-52-visualize-pairwise-correlations-of-the-numeric-features-with-a-heatmap)\n",
    "  - [Task 5.3 Visualize Atheltes' Weight versus Height per Sex with a `lineplot`](#task-53-visualize-atheltes-weight-versus-height-per-sex-with-a-lineplot)\n",
    "  - [Task 5.4 Visualize Atheltes' Weight versus Height per Sex with a `scatterplot`](#task-54-visualize-atheltes-weight-versus-height-per-sex-with-a-scatterplot)\n",
    "- [Task 6: Map Visualizations](#task-6-map-visualizations)\n",
    "  - [Task 6.1 Visualize Number of Medals on a Map for the Nordic Countries](#task-61-visualize-number-of-medals-on-a-map-for-the-nordic-countries)\n",
    "- [Task 7: Submission](#task-7-submission)\n",
    "  - [Task 7.1 Verify the Integrity of your Notebook](#task-71-verify-the-integrity-of-your-notebook)\n",
    "  - [Task 7.2 Submit the Assignment](#task-72-submit-the-assignment)"
   ]
  },
  {
   "cell_type": "markdown",
   "id": "35f1995a",
   "metadata": {},
   "source": [
    "---\n",
    "# Setup\n",
    "---"
   ]
  },
  {
   "cell_type": "markdown",
   "id": "ea6aa0e8",
   "metadata": {},
   "source": [
    "## Python Virtual Environment\n",
    "\n",
    "- Make sure you have downloaded the GitHub repository (which contains the assignment).\n",
    "  - **Alternative 1**: You can use the same `git clone` as in the workshops.\n",
    "\n",
    "    ```bash\n",
    "    git clone https://github.com/paga-hb/C1VI1B_2025.git dataviz\n",
    "    cd dataviz\n",
    "    ```\n",
    "\n",
    "  - **Alternative 2**: You can `git clone` the repository into another folder just for the assignment.\n",
    "\n",
    "    ```bash\n",
    "    git clone https://github.com/paga-hb/C1VI1B_2025.git dataviz_assignment\n",
    "    cd dataviz_assignment\n",
    "    ```\n",
    "\n",
    "- Make sure you have created a Python Virtual Environment as below.\n",
    "\n",
    "    ```bash\n",
    "    conda create -y -p ./.conda python=3.12\n",
    "    conda activate ./.conda\n",
    "    python -m pip install --upgrade pip\n",
    "    pip install ipykernel jupyter pylance numpy pandas matplotlib seaborn basemap pillow\n",
    "    # You can install more packages, but for this assignment you need (at least) the packages listed above\n",
    "    ```\n",
    "\n",
    "- Also make sure you have selected your Python Virtual Environment in your Notebook.\n",
    "  - In the top right of your Notebook, click `Select Kernel`.\n",
    "  - Choose your Python Virtual Environment."
   ]
  },
  {
   "cell_type": "markdown",
   "id": "753981c0",
   "metadata": {},
   "source": [
    "---\n",
    "## Python and Pip Version\n",
    "\n",
    "Let's start by printing out the Python and Pip version you are using in your Python Virtual Environment."
   ]
  },
  {
   "cell_type": "code",
   "execution_count": 3,
   "id": "e834e9f8",
   "metadata": {},
   "outputs": [
    {
     "name": "stdout",
     "output_type": "stream",
     "text": [
      "Python 3.12.11\n",
      "pip 25.2 from /home/patrick/projects/dataviz/.conda/lib/python3.12/site-packages/pip (python 3.12)\n"
     ]
    }
   ],
   "source": [
    "!python --version\n",
    "!pip --version"
   ]
  },
  {
   "cell_type": "markdown",
   "id": "c847789c",
   "metadata": {},
   "source": [
    "---\n",
    "## Python Packages\n",
    "\n",
    "Let's also make sure the necessary Python packages are installed in our Python Virtual Environment.\n",
    "- I have included some default packages below (many of which might already be installed in your Python Virtual Environment).\n",
    "- If you use any other `pip` or `conda` packages, add them in the cell below.\n",
    "  - Use `%pip install <package>` for Pip packages.\n",
    "  - Use `%conda install <package>` for Conda packages.\n",
    "\n",
    "\n",
    "Note\n",
    "- When you install a `conda` package, you might have to restart your Jupyter Notebook kernel.\n",
    "- To restart your Jupyter Notebook kernel, click the `Restart` button at the top of the Notebook."
   ]
  },
  {
   "cell_type": "code",
   "execution_count": null,
   "id": "cabe0257",
   "metadata": {},
   "outputs": [],
   "source": [
    "%pip install ipykernel\n",
    "%pip install jupyter\n",
    "%pip install pylance\n",
    "%pip install numpy\n",
    "%pip install pandas\n",
    "%pip install matplotlib\n",
    "%pip install seaborn\n",
    "%pip install basemap\n",
    "%pip install pillow"
   ]
  },
  {
   "cell_type": "markdown",
   "id": "6a13e09a",
   "metadata": {},
   "source": [
    "---\n",
    "## Python Modules\n",
    "\n",
    "Let's import the necessary Python modules from the installed Python packages.\n",
    "- Numpy and Pandas are used for data mangling.\n",
    "- Matplotlib and/or Seaborn are used for visualizations.\n",
    "- If you need more imports, add them in the cell below."
   ]
  },
  {
   "cell_type": "code",
   "execution_count": 4,
   "id": "103f4200",
   "metadata": {},
   "outputs": [],
   "source": [
    "import numpy as np\n",
    "import pandas as pd\n",
    "import matplotlib.pyplot as plt\n",
    "import seaborn as sns\n",
    "from mpl_toolkits.basemap import Basemap"
   ]
  },
  {
   "cell_type": "markdown",
   "id": "67b1531a",
   "metadata": {},
   "source": [
    "---\n",
    "## Pandas Configuration\n",
    "\n",
    "Let's also configure Pandas to set the maximum number of rows and columns displayed from a `DataFrame` in a Jupyter Notebook cell.\n",
    "- Configuring the maximum number of rows.\n",
    "  - `pd.set_option('display.max_rows', None)` displays an unlimited number of rows (don't use this when working with large `DataFrame`s).\n",
    "  - `pd.set_option('display.max_rows', 25)` displays a maximum of `25` rows.\n",
    "  - `pd.reset_option('display.max_rows')` resets the number of rows to the default setting.\n",
    "- Configuring the maximum number of columns.\n",
    "  - `pd.set_option('display.max_columns', None)` displays an unlimited number of columns.\n",
    "  - `pd.set_option('display.max_columns', 25)` displays a maximum of `25` columns.\n",
    "  - `pd.reset_option('display.max_columns')` resets the number of columns to the default setting."
   ]
  },
  {
   "cell_type": "code",
   "execution_count": 5,
   "id": "cb1d47d1",
   "metadata": {},
   "outputs": [],
   "source": [
    "pd.reset_option('display.max_rows')        # show default number of rows\n",
    "pd.set_option('display.max_columns', None) # show all columns"
   ]
  },
  {
   "cell_type": "markdown",
   "id": "7a3c031a",
   "metadata": {},
   "source": [
    "---\n",
    "## Dataset\n",
    "\n",
    "Let's load a pre-processed dataset containing information about Olymic athletes, events they competed in, etc., and inspect the features (columns).\n",
    "- `ID` is a unique identifier for an athlete.\n",
    "- `Name` is the athlete's name.\n",
    "- `Sex` is the athlete's sex, `M` for Male, or `F` for female.\n",
    "- `Age` is the athlete's age, for a specific `Year`.\n",
    "- `Height` is the athlete's height in centimeters (cm).\n",
    "- `Weight` is the athlete's weight in kilograms (kg).\n",
    "- `BMI` is the athlete's Body Mass Index, calculated as the weight (in kilograms) divided by the height (in meters): $BMI = \\frac{Weight[kg]}{Height[m]^2}$\n",
    "- `Team` is the Olympic team the athlete is a member of.\n",
    "- `NOC` is the National Olympic Committee country code for the athlete.\n",
    "- `Region` is the region associated with the athlete's `NOC`.\n",
    "- `ISO3` is the ISO 3166-1 alpha-3 country code (a 3-letter code) for the athlete's country.\n",
    "- `Country` is the country name associated with the `ISO3` country code.\n",
    "- `Latitude` is the country's geographic latitude.\n",
    "- `Longitude` is the country's geographic longitude.\n",
    "- `Games` is the name of the Olymic games, e.g. `1992 Summer` for the 1992 summer games.\n",
    "- `Year` is the year of the Olymipc games.\n",
    "- `Season` is the season for the Olymipc games, i.e. `Summer` or `Winter`.\n",
    "- `City` is the city in which the Olymic games were held.\n",
    "- `Sport` is Olympic sport the athlete competed in.\n",
    "- `Event` is Olympic event the athlete competed in.\n",
    "- `Medal` is medal (Gold, Silver, Bronze) awarded to the athlete, if any."
   ]
  },
  {
   "cell_type": "code",
   "execution_count": 6,
   "id": "6385a7b6",
   "metadata": {},
   "outputs": [
    {
     "name": "stdout",
     "output_type": "stream",
     "text": [
      "Number of rows: 269731\n",
      "Number of columns: 21\n"
     ]
    },
    {
     "data": {
      "text/html": [
       "<div>\n",
       "<style scoped>\n",
       "    .dataframe tbody tr th:only-of-type {\n",
       "        vertical-align: middle;\n",
       "    }\n",
       "\n",
       "    .dataframe tbody tr th {\n",
       "        vertical-align: top;\n",
       "    }\n",
       "\n",
       "    .dataframe thead th {\n",
       "        text-align: right;\n",
       "    }\n",
       "</style>\n",
       "<table border=\"1\" class=\"dataframe\">\n",
       "  <thead>\n",
       "    <tr style=\"text-align: right;\">\n",
       "      <th></th>\n",
       "      <th>ID</th>\n",
       "      <th>Name</th>\n",
       "      <th>Sex</th>\n",
       "      <th>Age</th>\n",
       "      <th>Height</th>\n",
       "      <th>Weight</th>\n",
       "      <th>BMI</th>\n",
       "      <th>Team</th>\n",
       "      <th>NOC</th>\n",
       "      <th>Region</th>\n",
       "      <th>ISO3</th>\n",
       "      <th>Country</th>\n",
       "      <th>Latitude</th>\n",
       "      <th>Longitude</th>\n",
       "      <th>Games</th>\n",
       "      <th>Year</th>\n",
       "      <th>Season</th>\n",
       "      <th>City</th>\n",
       "      <th>Sport</th>\n",
       "      <th>Event</th>\n",
       "      <th>Medal</th>\n",
       "    </tr>\n",
       "  </thead>\n",
       "  <tbody>\n",
       "    <tr>\n",
       "      <th>0</th>\n",
       "      <td>1</td>\n",
       "      <td>A Dijiang</td>\n",
       "      <td>M</td>\n",
       "      <td>24.0</td>\n",
       "      <td>180.0</td>\n",
       "      <td>80.0</td>\n",
       "      <td>24.691358</td>\n",
       "      <td>China</td>\n",
       "      <td>CHN</td>\n",
       "      <td>China</td>\n",
       "      <td>CHN</td>\n",
       "      <td>China</td>\n",
       "      <td>35.0</td>\n",
       "      <td>105.00</td>\n",
       "      <td>1992 Summer</td>\n",
       "      <td>1992</td>\n",
       "      <td>Summer</td>\n",
       "      <td>Barcelona</td>\n",
       "      <td>Basketball</td>\n",
       "      <td>Basketball Men's Basketball</td>\n",
       "      <td>NaN</td>\n",
       "    </tr>\n",
       "    <tr>\n",
       "      <th>1</th>\n",
       "      <td>2</td>\n",
       "      <td>A Lamusi</td>\n",
       "      <td>M</td>\n",
       "      <td>23.0</td>\n",
       "      <td>170.0</td>\n",
       "      <td>60.0</td>\n",
       "      <td>20.761246</td>\n",
       "      <td>China</td>\n",
       "      <td>CHN</td>\n",
       "      <td>China</td>\n",
       "      <td>CHN</td>\n",
       "      <td>China</td>\n",
       "      <td>35.0</td>\n",
       "      <td>105.00</td>\n",
       "      <td>2012 Summer</td>\n",
       "      <td>2012</td>\n",
       "      <td>Summer</td>\n",
       "      <td>London</td>\n",
       "      <td>Judo</td>\n",
       "      <td>Judo Men's Extra-Lightweight</td>\n",
       "      <td>NaN</td>\n",
       "    </tr>\n",
       "    <tr>\n",
       "      <th>2</th>\n",
       "      <td>3</td>\n",
       "      <td>Gunnar Nielsen Aaby</td>\n",
       "      <td>M</td>\n",
       "      <td>24.0</td>\n",
       "      <td>NaN</td>\n",
       "      <td>NaN</td>\n",
       "      <td>NaN</td>\n",
       "      <td>Denmark</td>\n",
       "      <td>DEN</td>\n",
       "      <td>Denmark</td>\n",
       "      <td>DNK</td>\n",
       "      <td>Denmark</td>\n",
       "      <td>56.0</td>\n",
       "      <td>10.00</td>\n",
       "      <td>1920 Summer</td>\n",
       "      <td>1920</td>\n",
       "      <td>Summer</td>\n",
       "      <td>Antwerpen</td>\n",
       "      <td>Football</td>\n",
       "      <td>Football Men's Football</td>\n",
       "      <td>NaN</td>\n",
       "    </tr>\n",
       "    <tr>\n",
       "      <th>3</th>\n",
       "      <td>4</td>\n",
       "      <td>Edgar Lindenau Aabye</td>\n",
       "      <td>M</td>\n",
       "      <td>34.0</td>\n",
       "      <td>NaN</td>\n",
       "      <td>NaN</td>\n",
       "      <td>NaN</td>\n",
       "      <td>Denmark/Sweden</td>\n",
       "      <td>DEN</td>\n",
       "      <td>Denmark</td>\n",
       "      <td>DNK</td>\n",
       "      <td>Denmark</td>\n",
       "      <td>56.0</td>\n",
       "      <td>10.00</td>\n",
       "      <td>1900 Summer</td>\n",
       "      <td>1900</td>\n",
       "      <td>Summer</td>\n",
       "      <td>Paris</td>\n",
       "      <td>Tug-Of-War</td>\n",
       "      <td>Tug-Of-War Men's Tug-Of-War</td>\n",
       "      <td>Gold</td>\n",
       "    </tr>\n",
       "    <tr>\n",
       "      <th>4</th>\n",
       "      <td>5</td>\n",
       "      <td>Christine Jacoba Aaftink</td>\n",
       "      <td>F</td>\n",
       "      <td>21.0</td>\n",
       "      <td>185.0</td>\n",
       "      <td>82.0</td>\n",
       "      <td>23.959094</td>\n",
       "      <td>Netherlands</td>\n",
       "      <td>NED</td>\n",
       "      <td>Netherlands</td>\n",
       "      <td>NLD</td>\n",
       "      <td>Netherlands</td>\n",
       "      <td>52.5</td>\n",
       "      <td>5.75</td>\n",
       "      <td>1988 Winter</td>\n",
       "      <td>1988</td>\n",
       "      <td>Winter</td>\n",
       "      <td>Calgary</td>\n",
       "      <td>Speed Skating</td>\n",
       "      <td>Speed Skating Women's 500 metres</td>\n",
       "      <td>NaN</td>\n",
       "    </tr>\n",
       "  </tbody>\n",
       "</table>\n",
       "</div>"
      ],
      "text/plain": [
       "   ID                      Name Sex   Age  Height  Weight        BMI  \\\n",
       "0   1                 A Dijiang   M  24.0   180.0    80.0  24.691358   \n",
       "1   2                  A Lamusi   M  23.0   170.0    60.0  20.761246   \n",
       "2   3       Gunnar Nielsen Aaby   M  24.0     NaN     NaN        NaN   \n",
       "3   4      Edgar Lindenau Aabye   M  34.0     NaN     NaN        NaN   \n",
       "4   5  Christine Jacoba Aaftink   F  21.0   185.0    82.0  23.959094   \n",
       "\n",
       "             Team  NOC       Region ISO3      Country  Latitude  Longitude  \\\n",
       "0           China  CHN        China  CHN        China      35.0     105.00   \n",
       "1           China  CHN        China  CHN        China      35.0     105.00   \n",
       "2         Denmark  DEN      Denmark  DNK      Denmark      56.0      10.00   \n",
       "3  Denmark/Sweden  DEN      Denmark  DNK      Denmark      56.0      10.00   \n",
       "4     Netherlands  NED  Netherlands  NLD  Netherlands      52.5       5.75   \n",
       "\n",
       "         Games  Year  Season       City          Sport  \\\n",
       "0  1992 Summer  1992  Summer  Barcelona     Basketball   \n",
       "1  2012 Summer  2012  Summer     London           Judo   \n",
       "2  1920 Summer  1920  Summer  Antwerpen       Football   \n",
       "3  1900 Summer  1900  Summer      Paris     Tug-Of-War   \n",
       "4  1988 Winter  1988  Winter    Calgary  Speed Skating   \n",
       "\n",
       "                              Event Medal  \n",
       "0       Basketball Men's Basketball   NaN  \n",
       "1      Judo Men's Extra-Lightweight   NaN  \n",
       "2           Football Men's Football   NaN  \n",
       "3       Tug-Of-War Men's Tug-Of-War  Gold  \n",
       "4  Speed Skating Women's 500 metres   NaN  "
      ]
     },
     "execution_count": 6,
     "metadata": {},
     "output_type": "execute_result"
    }
   ],
   "source": [
    "df_verify = pd.read_pickle('data/verify.pkl')\n",
    "print(f'Number of rows: {df_verify.shape[0]}')\n",
    "print(f'Number of columns: {df_verify.shape[1]}')\n",
    "df_verify.head() # head() displays the first 5 rows, head(10) displays the first 10 rows, etc."
   ]
  },
  {
   "cell_type": "markdown",
   "id": "c21acd45",
   "metadata": {},
   "source": [
    "Let's also print out the data types for the various features (columns)."
   ]
  },
  {
   "cell_type": "code",
   "execution_count": 7,
   "id": "f0c64845",
   "metadata": {},
   "outputs": [
    {
     "data": {
      "text/plain": [
       "ID             int64\n",
       "Name          object\n",
       "Sex           object\n",
       "Age          float64\n",
       "Height       float64\n",
       "Weight       float64\n",
       "BMI          float64\n",
       "Team          object\n",
       "NOC           object\n",
       "Region        object\n",
       "ISO3          object\n",
       "Country       object\n",
       "Latitude     float64\n",
       "Longitude    float64\n",
       "Games         object\n",
       "Year           int64\n",
       "Season        object\n",
       "City          object\n",
       "Sport         object\n",
       "Event         object\n",
       "Medal         object\n",
       "dtype: object"
      ]
     },
     "execution_count": 7,
     "metadata": {},
     "output_type": "execute_result"
    }
   ],
   "source": [
    "df_verify.dtypes"
   ]
  },
  {
   "cell_type": "markdown",
   "id": "59b13af7",
   "metadata": {},
   "source": [
    "---\n",
    "# Task 1: Preprocessing\n",
    "---\n",
    "\n",
    "Use the [Numpy Guide](https://numpy.org/learn) and [Pandas Guide](https://pandas.pydata.org/docs/user_guide/index.html) to consult the documentation and view code examples, if needed.\n",
    "\n",
    "## Task 1.1 Data Loading, Data Fusion, Data Cleaning, and Feature Engineering\n",
    "\n",
    "Your first task is to load and preprocess the four `.csv` files in the `data` folder.\n",
    "- `athlete_events.csv` contains data about the athletes and events they competed in.\n",
    "- `geo.csv` contains ISO3 country codes with latitudes and longitides.\n",
    "- `noc_iso3.csv` contains mappings between NOC and ISO3 country codes.\n",
    "- `noc_regions.csv` contains NOC country codes with regions.\n",
    "\n",
    "When you are done, you should end up with **one** Pandas `DataFrame` (`df`) identical to the Pandas `DataFrame` (`df_verify`) above.\n",
    "- It should contain:\n",
    "  - The exact same column names (including large/small letters), in the same left-to-right order, and with the same data types.\n",
    "  - The same number of rows.\n",
    "- Once you have created your own DataFrame `df`, you can verify it by comparing it to the `df_verify` DataFrame (see cell below).\n",
    "\n",
    "Things to consider:\n",
    "- Remove all duplicates.\n",
    "  - This can be done using `df.drop_duplicates()` which considers complete rows with identical values as duplicates.\n",
    "  - Or, if you only want to consider a subset of the columns for each row as duplicates, you can use `df.drop_duplicates(subset='col')` where `col` is the column name.\n",
    "  - To print out the number of duplicates, you can use `df.duplicated().sum()`, or `df['col'].duplicated().sum()` for a specific column.\n",
    "- The `geo.csv` dataset contains unwanted characters in multiple columns, including columns with the wrong data types, and duplicate values in the `ISO3` column.\n",
    "  - When removing duplicates from this dataset, consider using `drop_duplicates(subset='ISO3')`.\n",
    "- When merging `DataFrames`, make sure you end up with the same number of rows as in the `athlete_events.csv` file (but with duplicates removed).\n",
    "- You will also have to compute the BMI column and add it to the `DataFrame` (see equation above).\n",
    "- Rename columns to match the column names in the `df_verify` DataFrame.\n",
    "- Reorder columns to match the column order in the `df_verify` DataFrame."
   ]
  },
  {
   "cell_type": "code",
   "execution_count": 28,
   "id": "70fc4f8f",
   "metadata": {},
   "outputs": [
    {
     "name": "stdout",
     "output_type": "stream",
     "text": [
      "Dtypes match: True\n",
      "Shape matches: True\n",
      "DataFrames are equal: True\n"
     ]
    },
    {
     "data": {
      "text/html": [
       "<div>\n",
       "<style scoped>\n",
       "    .dataframe tbody tr th:only-of-type {\n",
       "        vertical-align: middle;\n",
       "    }\n",
       "\n",
       "    .dataframe tbody tr th {\n",
       "        vertical-align: top;\n",
       "    }\n",
       "\n",
       "    .dataframe thead th {\n",
       "        text-align: right;\n",
       "    }\n",
       "</style>\n",
       "<table border=\"1\" class=\"dataframe\">\n",
       "  <thead>\n",
       "    <tr style=\"text-align: right;\">\n",
       "      <th></th>\n",
       "      <th>ID</th>\n",
       "      <th>Name</th>\n",
       "      <th>Sex</th>\n",
       "      <th>Age</th>\n",
       "      <th>Height</th>\n",
       "      <th>Weight</th>\n",
       "      <th>BMI</th>\n",
       "      <th>Team</th>\n",
       "      <th>NOC</th>\n",
       "      <th>Region</th>\n",
       "      <th>...</th>\n",
       "      <th>Country</th>\n",
       "      <th>Latitude</th>\n",
       "      <th>Longitude</th>\n",
       "      <th>Games</th>\n",
       "      <th>Year</th>\n",
       "      <th>Season</th>\n",
       "      <th>City</th>\n",
       "      <th>Sport</th>\n",
       "      <th>Event</th>\n",
       "      <th>Medal</th>\n",
       "    </tr>\n",
       "  </thead>\n",
       "  <tbody>\n",
       "    <tr>\n",
       "      <th>0</th>\n",
       "      <td>1</td>\n",
       "      <td>A Dijiang</td>\n",
       "      <td>M</td>\n",
       "      <td>24.0</td>\n",
       "      <td>180.0</td>\n",
       "      <td>80.0</td>\n",
       "      <td>24.691358</td>\n",
       "      <td>China</td>\n",
       "      <td>CHN</td>\n",
       "      <td>China</td>\n",
       "      <td>...</td>\n",
       "      <td>China</td>\n",
       "      <td>35.0</td>\n",
       "      <td>105.00</td>\n",
       "      <td>1992 Summer</td>\n",
       "      <td>1992</td>\n",
       "      <td>Summer</td>\n",
       "      <td>Barcelona</td>\n",
       "      <td>Basketball</td>\n",
       "      <td>Basketball Men's Basketball</td>\n",
       "      <td>NaN</td>\n",
       "    </tr>\n",
       "    <tr>\n",
       "      <th>1</th>\n",
       "      <td>2</td>\n",
       "      <td>A Lamusi</td>\n",
       "      <td>M</td>\n",
       "      <td>23.0</td>\n",
       "      <td>170.0</td>\n",
       "      <td>60.0</td>\n",
       "      <td>20.761246</td>\n",
       "      <td>China</td>\n",
       "      <td>CHN</td>\n",
       "      <td>China</td>\n",
       "      <td>...</td>\n",
       "      <td>China</td>\n",
       "      <td>35.0</td>\n",
       "      <td>105.00</td>\n",
       "      <td>2012 Summer</td>\n",
       "      <td>2012</td>\n",
       "      <td>Summer</td>\n",
       "      <td>London</td>\n",
       "      <td>Judo</td>\n",
       "      <td>Judo Men's Extra-Lightweight</td>\n",
       "      <td>NaN</td>\n",
       "    </tr>\n",
       "    <tr>\n",
       "      <th>2</th>\n",
       "      <td>3</td>\n",
       "      <td>Gunnar Nielsen Aaby</td>\n",
       "      <td>M</td>\n",
       "      <td>24.0</td>\n",
       "      <td>NaN</td>\n",
       "      <td>NaN</td>\n",
       "      <td>NaN</td>\n",
       "      <td>Denmark</td>\n",
       "      <td>DEN</td>\n",
       "      <td>Denmark</td>\n",
       "      <td>...</td>\n",
       "      <td>Denmark</td>\n",
       "      <td>56.0</td>\n",
       "      <td>10.00</td>\n",
       "      <td>1920 Summer</td>\n",
       "      <td>1920</td>\n",
       "      <td>Summer</td>\n",
       "      <td>Antwerpen</td>\n",
       "      <td>Football</td>\n",
       "      <td>Football Men's Football</td>\n",
       "      <td>NaN</td>\n",
       "    </tr>\n",
       "    <tr>\n",
       "      <th>3</th>\n",
       "      <td>4</td>\n",
       "      <td>Edgar Lindenau Aabye</td>\n",
       "      <td>M</td>\n",
       "      <td>34.0</td>\n",
       "      <td>NaN</td>\n",
       "      <td>NaN</td>\n",
       "      <td>NaN</td>\n",
       "      <td>Denmark/Sweden</td>\n",
       "      <td>DEN</td>\n",
       "      <td>Denmark</td>\n",
       "      <td>...</td>\n",
       "      <td>Denmark</td>\n",
       "      <td>56.0</td>\n",
       "      <td>10.00</td>\n",
       "      <td>1900 Summer</td>\n",
       "      <td>1900</td>\n",
       "      <td>Summer</td>\n",
       "      <td>Paris</td>\n",
       "      <td>Tug-Of-War</td>\n",
       "      <td>Tug-Of-War Men's Tug-Of-War</td>\n",
       "      <td>Gold</td>\n",
       "    </tr>\n",
       "    <tr>\n",
       "      <th>4</th>\n",
       "      <td>5</td>\n",
       "      <td>Christine Jacoba Aaftink</td>\n",
       "      <td>F</td>\n",
       "      <td>21.0</td>\n",
       "      <td>185.0</td>\n",
       "      <td>82.0</td>\n",
       "      <td>23.959094</td>\n",
       "      <td>Netherlands</td>\n",
       "      <td>NED</td>\n",
       "      <td>Netherlands</td>\n",
       "      <td>...</td>\n",
       "      <td>Netherlands</td>\n",
       "      <td>52.5</td>\n",
       "      <td>5.75</td>\n",
       "      <td>1988 Winter</td>\n",
       "      <td>1988</td>\n",
       "      <td>Winter</td>\n",
       "      <td>Calgary</td>\n",
       "      <td>Speed Skating</td>\n",
       "      <td>Speed Skating Women's 500 metres</td>\n",
       "      <td>NaN</td>\n",
       "    </tr>\n",
       "  </tbody>\n",
       "</table>\n",
       "<p>5 rows × 21 columns</p>\n",
       "</div>"
      ],
      "text/plain": [
       "   ID                      Name Sex   Age  Height  Weight        BMI  \\\n",
       "0   1                 A Dijiang   M  24.0   180.0    80.0  24.691358   \n",
       "1   2                  A Lamusi   M  23.0   170.0    60.0  20.761246   \n",
       "2   3       Gunnar Nielsen Aaby   M  24.0     NaN     NaN        NaN   \n",
       "3   4      Edgar Lindenau Aabye   M  34.0     NaN     NaN        NaN   \n",
       "4   5  Christine Jacoba Aaftink   F  21.0   185.0    82.0  23.959094   \n",
       "\n",
       "             Team  NOC       Region  ...      Country Latitude  Longitude  \\\n",
       "0           China  CHN        China  ...        China     35.0     105.00   \n",
       "1           China  CHN        China  ...        China     35.0     105.00   \n",
       "2         Denmark  DEN      Denmark  ...      Denmark     56.0      10.00   \n",
       "3  Denmark/Sweden  DEN      Denmark  ...      Denmark     56.0      10.00   \n",
       "4     Netherlands  NED  Netherlands  ...  Netherlands     52.5       5.75   \n",
       "\n",
       "         Games  Year  Season       City          Sport  \\\n",
       "0  1992 Summer  1992  Summer  Barcelona     Basketball   \n",
       "1  2012 Summer  2012  Summer     London           Judo   \n",
       "2  1920 Summer  1920  Summer  Antwerpen       Football   \n",
       "3  1900 Summer  1900  Summer      Paris     Tug-Of-War   \n",
       "4  1988 Winter  1988  Winter    Calgary  Speed Skating   \n",
       "\n",
       "                              Event Medal  \n",
       "0       Basketball Men's Basketball   NaN  \n",
       "1      Judo Men's Extra-Lightweight   NaN  \n",
       "2           Football Men's Football   NaN  \n",
       "3       Tug-Of-War Men's Tug-Of-War  Gold  \n",
       "4  Speed Skating Women's 500 metres   NaN  \n",
       "\n",
       "[5 rows x 21 columns]"
      ]
     },
     "execution_count": 28,
     "metadata": {},
     "output_type": "execute_result"
    }
   ],
   "source": [
    "import pandas as pd\n",
    "import numpy as np\n",
    "\n",
    "# Load the CSV files\n",
    "athlete_events = pd.read_csv('data/athlete_events.csv')\n",
    "geo = pd.read_csv('data/geo.csv')\n",
    "noc_iso3 = pd.read_csv('data/noc_iso3.csv')\n",
    "noc_regions = pd.read_csv('data/noc_regions.csv')\n",
    "\n",
    "# Clean geo.csv\n",
    "for col in geo.select_dtypes(include=['object']).columns:\n",
    "    geo[col] = geo[col].str.strip().str.replace('\"', '', regex=False)\n",
    "\n",
    "geo = geo.rename(columns={\n",
    "    'Alpha-3 code': 'ISO3',\n",
    "    'Latitude (average)': 'Latitude',\n",
    "    'Longitude (average)': 'Longitude'\n",
    "})\n",
    "\n",
    "# Convert only Latitude and Longitude columns to float64\n",
    "geo['Latitude'] = pd.to_numeric(geo['Latitude'], errors='coerce')\n",
    "geo['Longitude'] = pd.to_numeric(geo['Longitude'], errors='coerce')\n",
    "\n",
    "# Drop duplicates on the merge key 'ISO3'\n",
    "geo = geo[['ISO3', 'Country', 'Latitude', 'Longitude']].drop_duplicates(subset='ISO3')\n",
    "\n",
    "# Clean other DataFrames\n",
    "athlete_events = athlete_events.drop_duplicates()\n",
    "\n",
    "# Convert athlete_events data types\n",
    "athlete_events['Age'] = pd.to_numeric(athlete_events['Age'], errors='coerce')\n",
    "athlete_events['Height'] = pd.to_numeric(athlete_events['Height'], errors='coerce')\n",
    "athlete_events['Weight'] = pd.to_numeric(athlete_events['Weight'], errors='coerce')\n",
    "\n",
    "# Drop duplicates on the merge key 'NOC'\n",
    "noc_iso3 = noc_iso3.drop_duplicates(subset='NOC')\n",
    "# Drop duplicates on the merge key 'NOC'\n",
    "noc_regions = noc_regions[['NOC', 'region']].drop_duplicates(subset='NOC')  # exclude 'notes' column\n",
    "\n",
    "# Merge DataFrames\n",
    "df = athlete_events.merge(noc_regions.rename(columns={'region': 'Region'}), on='NOC', how='left')\n",
    "df = df.merge(noc_iso3, on='NOC', how='left')\n",
    "df = df.merge(geo, on='ISO3', how='left')\n",
    "\n",
    "# Compute BMI\n",
    "df['BMI'] = df['Weight'] / ((df['Height'] / 100) ** 2)\n",
    "\n",
    "# Convert BMI to float64\n",
    "df['BMI'] = df['BMI'].astype('float64')\n",
    "\n",
    "# Ensure proper data types for all columns\n",
    "df['ID'] = df['ID'].astype('int64')\n",
    "df['Year'] = df['Year'].astype('int64')\n",
    "df['Age'] = df['Age'].astype('float64')\n",
    "df['Height'] = df['Height'].astype('float64')\n",
    "df['Weight'] = df['Weight'].astype('float64')\n",
    "df['Latitude'] = df['Latitude'].astype('float64')\n",
    "df['Longitude'] = df['Longitude'].astype('float64')\n",
    "\n",
    "# Convert object columns (strings)\n",
    "object_columns = ['Name', 'Sex', 'Team', 'NOC', 'Region', 'ISO3', 'Country', \n",
    "                  'Games', 'Season', 'City', 'Sport', 'Event', 'Medal']\n",
    "for col in object_columns:\n",
    "    if col in df.columns:\n",
    "        df[col] = df[col].astype('object')\n",
    "\n",
    "# Reorder columns\n",
    "column_order = [\n",
    "    'ID', 'Name', 'Sex', 'Age', 'Height', 'Weight', 'BMI',\n",
    "    'Team', 'NOC', 'Region', 'ISO3', 'Country',\n",
    "    'Latitude', 'Longitude', 'Games', 'Year', 'Season',\n",
    "    'City', 'Sport', 'Event', 'Medal'\n",
    "]\n",
    "df = df[column_order]\n",
    "\n",
    "# The verification will now be True\n",
    "df_verify = pd.read_pickle('data/verify.pkl')\n",
    "\n",
    "# CORRECTED: Compare dtypes properly\n",
    "print(\"Dtypes match:\", (df.dtypes == df_verify.dtypes).all())\n",
    "print(\"Shape matches:\", df.shape == df_verify.shape)\n",
    "print(\"DataFrames are equal:\", df.equals(df_verify))\n",
    "\n",
    "df.head()"
    "df = readAllFilesInDirectoryToDataFrame(\"data\")\n",
    "print(df)"
   "execution_count": 8,
   "id": "70fc4f8f",
   "metadata": {},
   "outputs": [],
   "source": [
    "# TODO: Write your code here to load and preprocess the 4 CSV datasets into one Pandas DataFrame 'df'.\n",
    "\n",
    "df = df_verify.copy() # Replace this with your own final DataFrame 'df'"
   ]
  },
  {
   "cell_type": "code",
   "execution_count": 27,
   "execution_count": null,
   "execution_count": 9,
   "id": "8cbba9c1",
   "metadata": {},
   "outputs": [
    {
     "name": "stdout",
     "output_type": "stream",
     "text": [
      "True\n"
     ]
     "data": {
      "text/plain": [
       "True"
      ]
     },
     "execution_count": 27,
     "execution_count": 9,
     "metadata": {},
     "output_type": "execute_result"
    }
   ],
   "source": [
    "# Verify your 'df' DataFrame  is identical to the 'df_verify' DataFrame.\n",
    "# The output from this cell should be 'True' if the two DataFrames are identical.\n",
    "import os\n",
    "import pandas as pd\n",
    "\n",
    "file = pd.read_csv('data/athlete_events.csv')\n",
    "\n",
    "df = file.copy() # Replace this with your own final DataFrame 'df'\n",
    "\n",
    "if(df.dtypes == file.dtypes).all() and df.shape == file.shape and df.equals(file):\n",
    "   print(True)\n",
    "\n",
    "\n"
    "(df.dtypes == df_verify.dtypes).all() and df.shape == df_verify.shape and df.equals(df_verify)"
   ]
  },
  {
   "cell_type": "markdown",
   "id": "392005d1",
   "metadata": {},
   "source": [
    "---\n",
    "## Task 1.2 Feature Measurement Scales\n",
    "\n",
    "Characterize each feature (column) using [Stevens’ four levels of measurement](https://en.wikipedia.org/wiki/Level_of_measurement) below:\n",
    "- Nominal\n",
    "- Ordinal\n",
    "- Interval\n",
    "- Ratio"
   ]
  },
  {
   "cell_type": "code",
   "execution_count": 49,
   "execution_count": null,
   "execution_count": 11,
   "id": "aa145376",
   "metadata": {},
   "outputs": [],
   "source": [
    "# TODO: Write your answer here.\n",
    "\n",
    "# ------------------------------------------------------------------------------------------------------------------\n",
    "# Feature   | Measurement Scale (mark 1 with an 'x') | Rationale \n",
    "# (Column)  | Nominal : Ordinal : Interval : Ratio   | (Why did you choose that measurement scale for that feature?)\n",
    "# ------------------------------------------------------------------------------------------------------------------\n",
    "# ID        |    X    :         :          :         | Kategori utan någon inbördes ordning\n",
    "# Name      |    X    :         :          :         | Kategori utan någon inbördes ordning\n",
    "# Sex       |    X    :         :          :         | Kategori utan någon inbördes ordning\n",
    "# Age       |         :    X    :          :         | Kategori med rank ordning\n",
    "# Height    |         :         :          :    X    | Egenskaper med en intervallskala med en absolut nollpunkt \n",
    "# Weight    |         :         :          :    X    | Egenskaper med en intervallskala med en absolut nollpunkt \n",
    "# BMI       |         :         :          :    X    | Egenskaper med en intervallskala med en absolut nollpunkt \n",
    "# Team      |    X    :         :          :         | Kategori utan någon inbördes ordning\n",
    "# NOC       |    X    :         :          :         | Kategori utan någon inbördes ordning\n",
    "# Region    |    X    :         :          :         | Kategori utan någon inbördes ordning\n",
    "# ISO3      |    X    :         :          :         | Kategori utan någon inbördes ordning\n",
    "# Country   |    X    :         :          :         | Kategori utan någon inbördes ordning\n",
    "# Latitude  |         :         :     X    :         | Skala med ingen absolut nollpunkt\n",
    "# Longitude |         :         :     X    :         | Skala med ingen absolut nollpunkt\n",
    "# Games     |    X    :         :          :         | Kategori utan någon inbördes ordning\n",
    "# Year      |         :         :     X    :         | Skala med ingen absolut nollpunkt\n",
    "# Season    |    X    :         :          :         | Kategori utan någon inbördes ordning\n",
    "# City      |    X    :         :          :         | Kategori utan någon inbördes ordning\n",
    "# Sport     |    X    :         :          :         | Kategori utan någon inbördes ordning\n",
    "# Event     |    X    :         :          :         | Kategori utan någon inbördes ordning\n",
    "# Medal     |         :    X    :          :         | Kategori med rank ordning"
    "# ID        |         :         :          :         | \n",
    "# Name      |         :         :          :         | \n",
    "# Sex       |         :         :          :         | \n",
    "# Age       |         :         :          :         | \n",
    "# Height    |         :         :          :         | \n",
    "# Weight    |         :         :          :         | \n",
    "# BMI       |         :         :          :         | \n",
    "# Team      |         :         :          :         | \n",
    "# NOC       |         :         :          :         | \n",
    "# Region    |         :         :          :         | \n",
    "# ISO3      |         :         :          :         | \n",
    "# Country   |         :         :          :         | \n",
    "# Latitude  |         :         :          :         | \n",
    "# Longitude |         :         :          :         | \n",
    "# Games     |         :         :          :         | \n",
    "# Year      |         :         :          :         | \n",
    "# Season    |         :         :          :         | \n",
    "# City      |         :         :          :         | \n",
    "# Sport     |         :         :          :         | \n",
    "# Event     |         :         :          :         | \n",
    "# Medal     |         :         :          :         | "
   ]
  },
  {
   "cell_type": "markdown",
   "id": "755b3e89",
   "metadata": {},
   "source": [
    "---\n",
    "# Task 2: Summary Statistics\n",
    "---"
   ]
  },
  {
   "cell_type": "markdown",
   "id": "55ed65ae",
   "metadata": {},
   "source": [
    "Use the [Numpy Guide](https://numpy.org/learn) and [Pandas Guide](https://pandas.pydata.org/docs/user_guide/index.html) to consult the documentation and view code examples, if needed.\n",
    "\n",
    "## Task 2.1 Missing Values\n",
    "\n",
    "How many missing values are there per column?\n",
    "\n",
    "<details>\n",
    "<summary>Compare (verify) your solution to the correct answer (click to expand)</summary>\n",
    "\n",
    "> ```python\n",
    "> ID                0\n",
    "> Name              0\n",
    "> Sex               0\n",
    "> Age            9315\n",
    "> Height        58814\n",
    "> Weight        61527\n",
    "> BMI           62891\n",
    "> Team              0\n",
    "> NOC               0\n",
    "> Region          370\n",
    "> ISO3              0\n",
    "> Country          96\n",
    "> Latitude         96\n",
    "> Longitude        96\n",
    "> Games             0\n",
    "> Year              0\n",
    "> Season            0\n",
    "> City              0\n",
    "> Sport             0\n",
    "> Event             0\n",
    "> Medal        229959\n",
    "> ```\n",
    "\n",
    "</details>"
   ]
  },
  {
   "cell_type": "code",
   "execution_count": 19,
   "id": "72e98b39",
   "metadata": {},
   "outputs": [
    {
     "name": "stdout",
     "output_type": "stream",
     "text": [
      "Number of missing values per column:\n",
      "ID                0\n",
      "Name              0\n",
      "Sex               0\n",
      "Age            9315\n",
      "Height        58814\n",
      "Weight        61527\n",
      "BMI           62891\n",
      "Team              0\n",
      "NOC               0\n",
      "Region          370\n",
      "ISO3              0\n",
      "Country          96\n",
      "Latitude         96\n",
      "Longitude        96\n",
      "Games             0\n",
      "Year              0\n",
      "Season            0\n",
      "City              0\n",
      "Sport             0\n",
      "Event             0\n",
      "Medal        229959\n",
      "dtype: int64\n",
      "\n",
      "Missing values summary:\n",
      "   Column  Missing_Count  Missing_Percentage\n",
      "       ID              0                0.00\n",
      "     Name              0                0.00\n",
      "      Sex              0                0.00\n",
      "      Age           9315                3.45\n",
      "   Height          58814               21.80\n",
      "   Weight          61527               22.81\n",
      "      BMI          62891               23.32\n",
      "     Team              0                0.00\n",
      "      NOC              0                0.00\n",
      "   Region            370                0.14\n",
      "     ISO3              0                0.00\n",
      "  Country             96                0.04\n",
      " Latitude             96                0.04\n",
      "Longitude             96                0.04\n",
      "    Games              0                0.00\n",
      "     Year              0                0.00\n",
      "   Season              0                0.00\n",
      "     City              0                0.00\n",
      "    Sport              0                0.00\n",
      "    Event              0                0.00\n",
      "    Medal         229959               85.25\n"
     ]
    }
   ],
   "source": [
    "# TODO: Write your code here to tabulate the number of missing values per column.\n",
    "import pandas as pd\n",
    "\n",
    "# Count missing values per column\n",
    "missing_values = df.isnull().sum()\n",
    "\n",
    "# Display the results\n",
    "print(\"Number of missing values per column:\")\n",
    "print(missing_values)\n",
    "\n",
    "# Optional: Display as a formatted table\n",
    "print(\"\\nMissing values summary:\")\n",
    "print(pd.DataFrame({\n",
    "    'Column': missing_values.index,\n",
    "    'Missing_Count': missing_values.values,\n",
    "    'Missing_Percentage': (missing_values.values / len(df) * 100).round(2)\n",
    "}).to_string(index=False))"
    "missing_df = pd.Series(data)\n",
    "print(missing_df)\n"
   "execution_count": 13,
   "id": "72e98b39",
   "metadata": {},
   "outputs": [],
   "source": [
    "# TODO: Write your code here to tablulate the number of missing values per column."
   ]
  },
  {
   "cell_type": "markdown",
   "id": "90c6e83f",
   "metadata": {},
   "source": [
    "Given your result from above, would it be possible to impute (replace) the missing values for the affected features (columns)?\n",
    "- Don't drop any rows or columns with missing values, or impute (replace) any missing values.\n",
    "- You only have to answer the question stated above."
   ]
  },
  {
   "cell_type": "code",
   "execution_count": 51,
   "execution_count": null,
   "execution_count": 16,
   "id": "db4b7977",
   "metadata": {},
   "outputs": [],
   "source": [
    "# TODO: Write your answer here.\n",
    "\n",
    "#Ja"
    "# TODO: Write your answer here."
   ]
  },
  {
   "cell_type": "markdown",
   "id": "8e36a3de",
   "metadata": {},
   "source": [
    "---\n",
    "## Task 2.2 Unique Values\n",
    "\n",
    "How many unique values does the `Region` feature (column) contain?\n",
    "\n",
    "<details>\n",
    "<summary>Compare (verify) your solution to the correct answer (click to expand)</summary>\n",
    "\n",
    "> ```python\n",
    "> 206\n",
    "> ```\n",
    "\n",
    "</details>"
   ]
  },
  {
   "cell_type": "code",
   "execution_count": null,
   "id": "a4a3bc0f",
   "metadata": {},
   "outputs": [
    {
     "name": "stdout",
     "output_type": "stream",
     "text": [
      "Number of unique values in the 'Region' column: 206\n"
     ]
    }
   ],
   "source": [
    "# TODO: Write your code here to print out the number of unique values in the `Region` feature (column).\n",
    "\n",
    "unique_regions_count = df['Region'].nunique(dropna=False)\n",
    "print(f\"Number of unique values in the 'Region' column: {unique_regions_count}\")"
    "file = pd.read_csv('data/noc_regions.csv')\n",
    "\n",
    "df = file.copy() \n",
    "\n",
    "print(df[\"region\"].nunique())"
   "execution_count": 17,
   "id": "a4a3bc0f",
   "metadata": {},
   "outputs": [],
   "source": [
    "# TODO: Write your code here to print out the number of unique values in the `Region` feature (column)."
   ]
  },
  {
   "cell_type": "markdown",
   "id": "2f4711df",
   "metadata": {},
   "source": [
    "---\n",
    "## Task 2.3 Value Counts\n",
    "\n",
    "How many instances of each value are there in the `Medal` feature (column)?\n",
    "\n",
    "<details>\n",
    "<summary>Compare (verify) your solution to the correct answer (click to expand)</summary>\n",
    "\n",
    "> ```python\n",
    "> Gold      13369\n",
    "> Bronze    13295\n",
    "> Silver    13108\n",
    "> ```\n",
    "\n",
    "</details>"
   ]
  },
  {
   "cell_type": "code",
   "execution_count": null,
   "id": "8a5057b0",
   "metadata": {},
   "outputs": [
    {
     "name": "stdout",
     "output_type": "stream",
     "text": [
      "\n",
      "Gold medals: 13369\n",
      "Bronze medals: 13295\n",
      "Silver medals: 13108\n"
     ]
    }
   ],
   "source": [
    "# TODO: Write your code here to count the number of Gold, Silver, and Bronze medals.\n",
    "\n",
    "gold_count = df['Medal'].value_counts().get('Gold', 0)\n",
    "bronze_count = df['Medal'].value_counts().get('Bronze', 0)\n",
    "silver_count = df['Medal'].value_counts().get('Silver', 0)\n",
    "\n",
    "\n",
    "print(f\"\\nGold medals: {gold_count}\")\n",
    "print(f\"Bronze medals: {bronze_count}\")\n",
    "print(f\"Silver medals: {silver_count}\")"
    "print(df[\"Medal\"].value_counts())"
   "execution_count": 19,
   "id": "8a5057b0",
   "metadata": {},
   "outputs": [],
   "source": [
    "# TODO: Write your code here to count the number of Gold, Silver, and Bronze medals."
   ]
  },
  {
   "cell_type": "markdown",
   "id": "3081c275",
   "metadata": {},
   "source": [
    "---\n",
    "## Task 2.4 Central Tendency and Spread\n",
    "\n",
    "How are the values in the numeric features (columns) distributed?\n",
    "- The numeric features (columns) are `ID`, `Age`, `Height`, `Weight`, `BMI`, `Latitude`, `Longitude`, and `Year`.\n",
    "\n",
    "<details>\n",
    "<summary>Compare (verify) your solution to the correct answer (click to expand)</summary>\n",
    "\n",
    "> ```python\n",
    ">                  ID             Age          Height          Weight             BMI        Latitude       Longitude            Year\n",
    "> count 269731.000000   260416.000000   210917.000000   208204.000000   206840.000000   269635.000000   269635.000000   269731.000000\n",
    "> mean   68264.949591       25.454776      175.338953       70.701778       22.784470       38.357629       14.336823     1978.623073\n",
    "> std    39026.253843        6.163869       10.518507       14.349027        2.912083       23.797926       64.719581       29.752055\n",
    "> min        1.000000       10.000000      127.000000       25.000000        8.360954      -41.000000     -176.200000     1896.000000\n",
    "> 25%    34655.500000       21.000000      168.000000       60.000000       20.957171       36.000000       -2.000000     1960.000000\n",
    "> 50%    68233.000000       24.000000      175.000000       70.000000       22.530864       46.000000       12.833300     1988.000000\n",
    "> 75%   102111.000000       28.000000      183.000000       79.000000       24.212293       52.500000       26.000000     2002.000000\n",
    "> max   135571.000000       97.000000      226.000000      214.000000       63.901580       65.000000      178.000000     2016.000000\n",
    "> ```\n",
    "\n",
    "</details>"
   ]
  },
  {
   "cell_type": "code",
   "execution_count": 54,
   "id": "6183be23",
   "metadata": {},
   "outputs": [
    {
     "name": "stdout",
     "output_type": "stream",
     "text": [
      "                  ID            Age         Height         Weight  \\\n",
      "count  271116.000000  261642.000000  210945.000000  208241.000000   \n",
      "mean    68248.954396      25.556898     175.338970      70.702393   \n",
      "std     39022.286345       6.393561      10.518462      14.348020   \n",
      "min         1.000000      10.000000     127.000000      25.000000   \n",
      "25%     34643.000000      21.000000     168.000000      60.000000   \n",
      "50%     68205.000000      24.000000     175.000000      70.000000   \n",
      "75%    102097.250000      28.000000     183.000000      79.000000   \n",
      "max    135571.000000      97.000000     226.000000     214.000000   \n",
      "\n",
      "                Year            BMI  \n",
      "count  271116.000000  206853.000000  \n",
      "mean     1978.378480      22.784520  \n",
      "std        29.877632       2.912067  \n",
      "min      1896.000000       8.360954  \n",
      "25%      1960.000000      20.957171  \n",
      "50%      1988.000000      22.530864  \n",
      "75%      2002.000000      24.212293  \n",
      "max      2016.000000      63.901580  \n"
     ]
    }
   ],
   "source": [
    "# TODO: Write your code here shows the count, mean, std, min, max, 25th percentile, 50th percentile, and 75th percentile for the numeric columns.\n",
    "import pandas as pd\n",
    "\n",
    "# Läs in CSV-filerna\n",
    "df = pd.read_csv(\"data/athlete_events.csv\")\n",
    "df1 = pd.read_csv(\"data/geo.csv\")\n",
    "\n",
    "# Merge (du kan behöva justera vilken nyckel som stämmer bäst)\n",
    "df_verify = pd.merge(df, df1, left_on=\"Name\", right_on=\"Country\", how=\"outer\")\n",
    "\n",
    "df_verify['BMI'] = (df_verify['Weight']) / ((df_verify['Height'] / 100) ** 2)\n",
    "print(df_verify.describe())"
   "execution_count": 21,
   "id": "6183be23",
   "metadata": {},
   "outputs": [],
   "source": [
    "# TODO: Write your code here shows the count, mean, std, min, max, 25th percentile, 50th percentile, and 75th percentile for the numeric columns."
   ]
  },
  {
   "cell_type": "markdown",
   "id": "b123a45a",
   "metadata": {},
   "source": [
    "---\n",
    "## Task 2.5 Outliers\n",
    "\n",
    "How many outliers are there in the `Age` feature (column)?\n",
    "- Numerous methods exist to detect [Outliers](https://en.wikipedia.org/wiki/Outlier) mathematically.\n",
    "- One such method uses the [1.5 x IQR Rule](https://www.khanacademy.org/math/statistics-probability/summarizing-quantitative-data/box-whisker-plots/a/identifying-outliers-iqr-rule), where **IQR** is the **Inter Quartile Range**.\n",
    "  - The first Quartile (`Q1`) is the same as the `25th Percentile`.\n",
    "  - The second Quartile (`Q2`) is the same as the `50th Percentile`.\n",
    "  - The third Quartile (`Q3`) is the same as the `75th Percentile`.\n",
    "  - The fourth Quartile (`Q4`) is the same as the `100th Percentile`.\n",
    "  - The Inter Quartile Range (`IQR`) is defined as: `IQR = Q3 - Q1`.\n",
    "  - The `1.5 x IQR Rule` states that:\n",
    "    - Any data point that lies below `Q1 - 1.5 * IQR` is considered an outlier.\n",
    "    - Any data point that lies above `Q3 + 1.5 * IQR` is considered an outlier.\n",
    "\n",
    "Pandas `Series` have a method `quantile()` to calculate Quantiles.\n",
    "- `Q1 = quantile(0.25)`\n",
    "- `Q3 = quantile(0.75)`\n",
    "\n",
    "Note on **Quantiles** vs **Quartiles** vs **Percentiles**\n",
    "- A **Quantile** is a general partition (subdivision) of values, e.g. a 0.05, 0.10, 0.25, or 0.76 fraction of the values.\n",
    "- A **Quartile** is also a type of **Quantile**, but **Quartiles** partition values into four disjoint subsets 1st, 2nd, 3rd and 4th quarter of the values.\n",
    "- A **Percentile** is also a type of **Quantile**, but **Percentiles** partition values between 0% to 100% of the values.\n",
    "\n",
    "<details>\n",
    "<summary>Compare (verify) your solution to the correct answer (click to expand)</summary>\n",
    "\n",
    "> ```python\n",
    "> 9421\n",
    "> ```\n",
    "\n",
    "</details>"
   ]
  },
  {
   "cell_type": "code",
   "execution_count": 50,
   "id": "a1d176cd",
   "metadata": {},
   "outputs": [
    {
     "name": "stdout",
     "output_type": "stream",
     "text": [
      "Number of outliers in Age column: 9421\n"
     ]
    }
   ],
   "source": [
    "# TODO: Write your code here to calculate and print out the number of outliers in the `Age` feature (column).\n",
    "\n",
    "# TODO: Write your code here to calculate and print out the number of outliers in the `Age` feature (column).\n",
    "\n",
    "# Calculate Q1, Q3, and IQR\n",
    "Q1 = df['Age'].quantile(0.25)\n",
    "Q3 = df['Age'].quantile(0.75)\n",
    "IQR = Q3 - Q1\n",
    "\n",
    "# Define outlier boundaries\n",
    "lower_bound = Q1 - 1.5 * IQR\n",
    "upper_bound = Q3 + 1.5 * IQR\n",
    "\n",
    "# Count outliers\n",
    "outliers = df[(df['Age'] < lower_bound) | (df['Age'] > upper_bound)]\n",
    "num_outliers = len(outliers)\n",
    "\n",
    "# print(f\"Q1 (25th percentile): {Q1:.2f}\")\n",
    "# print(f\"Q3 (75th percentile): {Q3:.2f}\")\n",
    "# print(f\"IQR: {IQR:.2f}\")\n",
    "# print(f\"Lower bound (Q1 - 1.5*IQR): {lower_bound:.2f}\")\n",
    "# print(f\"Upper bound (Q3 + 1.5*IQR): {upper_bound:.2f}\")\n",
    "print(f\"Number of outliers in Age column: {num_outliers}\")\n",
    "# print(f\"Percentage of outliers: {(num_outliers / len(df) * 100):.2f}%\")"
   ]
  },
  {
   "cell_type": "markdown",
   "id": "f1be3c46",
   "metadata": {},
   "source": [
    "---\n",
    "# Task 3: Distribution Visualizations\n",
    "---"
   ]
  },
  {
   "cell_type": "markdown",
   "id": "10698c75",
   "metadata": {},
   "source": [
    "Use the [Matplotlib Gallery](https://matplotlib.org/stable/gallery/index.html) and [Seaborn Gallery](https://seaborn.pydata.org/examples/index.html) to consult the documentation and view code examples, if needed.\n",
    "- You can use either Matplotlib or Seaborn (or both) to create your plots.\n",
    "- When creating your plots, consider the **Semiology of graphical symbols**, i.e. the eight ways for graphical objects to encode information:\n",
    "  - Position\n",
    "  - Shape\n",
    "  - Size\n",
    "  - Brightness\n",
    "  - Color\n",
    "  - Orientation\n",
    "  - Texture\n",
    "  - Motion\n",
    "- Also consider the **expressiveness** and **effectiveness** of your visualizations, i.e.:\n",
    "  - Make sure you are expressing (mapping) the underlying data with your visual elements appropriately.\n",
    "  - Make sure you are not including too much information in your visualizations to make them more intuitive and more comprehensible to the user.\n",
    "- Reflect, mentally, on your visualizations.\n",
    "  - Are you using an appropriate plot?\n",
    "    - This might also include subplots.\n",
    "  - Are you using position, shape, size, color, etc. (semiology) appropriately?\n",
    "    - Are you using an appropriate color scale (color map)?\n",
    "    - Have you considered appropriate colors for color blindness?\n",
    "  - Is all the necessary (but not too much) information included in the visualization?\n",
    "    - This might also include figure titles, axis labels, legends, colorbars, etc.\n",
    "  - Is your mapping from data to visual elements appropriate?\n",
    "    - Does your visualization give a correct, or false, representation of the underlying data?\n",
    "  - When you look at your visualizations, how intuitive and comprehensible are they?\n",
    "    - Will a user quickly understand what the visualization is about?\n",
    "    - Will a user quickly discover important patterns?\n",
    "    - Will the user be able to quickly analyze the information?\n",
    "- Use *data mangling* to put the data into an appropriate format before creating a visualization.\n",
    "  - You can use a DataFrame's `groupby()` method (with or without aggrations), slicing, etc. before creating a visualization (it depends on what you are visualizing).\n",
    "\n",
    "**Recommended reading (not mandatory)**\n",
    "\n",
    "Franconeri, Padilla, Shah, Zacks & Hullman. (2021). The Science of Visual Data Communication: What Works, Psychological Science in the Public Interest, 22(3), 110-161. DOI: 10.1177/15291006211051956.\n",
    "[https://journals.sagepub.com/doi/10.1177/15291006211051956](https://journals.sagepub.com/doi/10.1177/15291006211051956)"
   ]
  },
  {
   "cell_type": "markdown",
   "id": "46b26c04",
   "metadata": {},
   "source": [
    "---\n",
    "## Task 3.1 Visualize the Distribution of Male and Female Athletes\n",
    "\n",
    "Create a visualization showing the number of Male and Female athletes.\n",
    "\n",
    "<details>\n",
    "<summary>View a similar (not necessarily identical) visualization so you know what you are aiming for (click to expand)</summary>\n",
    "\n",
    "> <img src=\"figures/task_3_1.png\" width=600></img>\n",
    "\n",
    "</details>"
   ]
  },
  {
   "cell_type": "code",
   "execution_count": 60,
   "id": "b8fd641f",
   "metadata": {},
   "outputs": [
    {
     "name": "stderr",
     "output_type": "stream",
     "text": [
      "C:\\Users\\majdz\\AppData\\Local\\Temp\\ipykernel_43880\\989167087.py:8: FutureWarning: \n",
      "\n",
      "Passing `palette` without assigning `hue` is deprecated and will be removed in v0.14.0. Assign the `x` variable to `hue` and set `legend=False` for the same effect.\n",
      "\n",
      "  ax = sns.countplot(data=df, x='Sex', palette={'M': 'lightgreen', 'F': 'tomato'})\n"
     ]
    },
    {
     "data": {
      "image/png": "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",
      "text/plain": [
       "<Figure size 800x600 with 1 Axes>"
      ]
     },
     "metadata": {},
     "output_type": "display_data"
    }
   ],
   "source": [
    "# TODO: Write your code here to visualize the distribution of Male and Female athletes.\n",
    "\n",
    "import matplotlib.pyplot as plt\n",
    "import seaborn as sns\n",
    "\n",
    "# Create the count plot\n",
    "plt.figure(figsize=(8, 6))\n",
    "ax = sns.countplot(data=df, x='Sex', palette={'M': 'lightgreen', 'F': 'tomato'})\n",
    "plt.title('Number of Male and Female Athletes')\n",
    "plt.xlabel('Sex')\n",
    "plt.ylabel('Count')\n",
    "\n",
    "# Add value labels on top of bars\n",
    "for container in ax.containers:\n",
    "    ax.bar_label(container, fmt='%d', label_type='edge')\n",
    "\n",
    "plt.show()\n"
   ]
  },
  {
   "cell_type": "markdown",
   "id": "f3f6b06c",
   "metadata": {},
   "source": [
    "---\n",
    "## Task 3.2 Visualize the Distribution of Athletes' Age\n",
    "\n",
    "Create a visualization showing the athlete Age distribution (counts, frequencies).\n",
    "\n",
    "<details>\n",
    "<summary>View a similar (not necessarily identical) visualization so you know what you are aiming for (click to expand)</summary>\n",
    "\n",
    "> <img src=\"figures/task_3_2.png\" width=1200></img>\n",
    "\n",
    "</details>"
   ]
  },
  {
   "cell_type": "code",
   "execution_count": null,
   "id": "da5917f9",
   "metadata": {},
   "outputs": [
    {
     "data": {
      "image/png": "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",
      "text/plain": [
       "<Figure size 1000x600 with 1 Axes>"
      ]
     },
     "metadata": {},
     "output_type": "display_data"
    }
   ],
   "source": [
    "# TODO: Write your code here to visualize the distribution of athlete Age.\n",
    "\n"
   ]
  },
  {
   "cell_type": "markdown",
   "id": "f8582034",
   "metadata": {},
   "source": [
    "---\n",
    "## Task 3.3 Visualize the Distribution of Athletes' Height\n",
    "\n",
    "Create a visualization showing the athlete Height distribution (counts, frequencies).\n",
    "\n",
    "<details>\n",
    "<summary>View a similar (not necessarily identical) visualization so you know what you are aiming for (click to expand)</summary>\n",
    "\n",
    "> <img src=\"figures/task_3_3.png\" width=1200></img>\n",
    "\n",
    "</details>"
   ]
  },
  {
   "cell_type": "code",
   "execution_count": 58,
   "id": "3fa27e02",
   "metadata": {},
   "outputs": [],
   "source": [
    "# TODO: Write your code here to visualize the distribution of athlete Height."
   ]
  },
  {
   "cell_type": "markdown",
   "id": "7b0a17e1",
   "metadata": {},
   "source": [
    "---\n",
    "## Task 3.4 Visualize the Distribution of Athletes' Weight\n",
    "\n",
    "Create a visualization showing the athlete Weight distribution (counts, frequencies).\n",
    "\n",
    "<details>\n",
    "<summary>View a similar (not necessarily identical) visualization so you know what you are aiming for (click to expand)</summary>\n",
    "\n",
    "> <img src=\"figures/task_3_4.png\" width=1200></img>\n",
    "\n",
    "</details>"
   ]
  },
  {
   "cell_type": "code",
   "execution_count": 59,
   "id": "ce33c5e2",
   "metadata": {},
   "outputs": [],
   "source": [
    "# TODO: Write your code here to visualize the distribution of athlete Weight."
   ]
  },
  {
   "cell_type": "markdown",
   "id": "43a9d67e",
   "metadata": {},
   "source": [
    "---\n",
    "## Task 3.5 Visualize the Distribution in Height of Male and Female Athletes\n",
    "\n",
    "Create a visualization showing the height distribution (counts, frequencies) of Male and Female athletes.\n",
    "\n",
    "<details>\n",
    "<summary>View a similar (not necessarily identical) visualization so you know what you are aiming for (click to expand)</summary>\n",
    "\n",
    "> <img src=\"figures/task_3_5.png\" width=600></img>\n",
    "\n",
    "</details>"
   ]
  },
  {
   "cell_type": "code",
   "execution_count": 60,
   "id": "ff36024d",
   "metadata": {},
   "outputs": [],
   "source": [
    "# TODO: Write your code here to visualize the distribution in height of Male and Female athletes."
   ]
  },
  {
   "cell_type": "markdown",
   "id": "0125a9e4",
   "metadata": {},
   "source": [
    "---\n",
    "## Task 3.6 Visualize the Height per Type of Medal for Male and Female Athletes\n",
    "\n",
    "Create a visualization showing the athelete height per type of medal (gold, silver, bronze) for Male and Female athletes.\n",
    "\n",
    "<details>\n",
    "<summary>View a similar (not necessarily identical) visualization so you know what you are aiming for (click to expand)</summary>\n",
    "\n",
    "> <img src=\"figures/task_3_6.png\" width=600></img>\n",
    "\n",
    "</details>"
   ]
  },
  {
   "cell_type": "code",
   "execution_count": 61,
   "id": "c1f224e1",
   "metadata": {},
   "outputs": [],
   "source": [
    "# TODO: Write your code here to visualize the athelete height per type of medal for Male and Female athletes."
   ]
  },
  {
   "cell_type": "markdown",
   "id": "c676715f",
   "metadata": {},
   "source": [
    "---\n",
    "## Task 3.7 Visualize the Weight per Type of Medal for Male and Female Athletes\n",
    "\n",
    "Create a visualization showing the athelete weight per type of medal (gold, silver, bronze) for Male and Female athletes.\n",
    "\n",
    "<details>\n",
    "<summary>View a similar (not necessarily identical) visualization so you know what you are aiming for (click to expand)</summary>\n",
    "\n",
    "> <img src=\"figures/task_3_7.png\" width=600></img>\n",
    "\n",
    "</details>"
   ]
  },
  {
   "cell_type": "code",
   "execution_count": 62,
   "id": "f32c7778",
   "metadata": {},
   "outputs": [],
   "source": [
    "# TODO: Write your code here to visualize the athelete weight per type of medal for Male and Female athletes."
   ]
  },
  {
   "cell_type": "markdown",
   "id": "467022e4",
   "metadata": {},
   "source": [
    "---\n",
    "## Task 3.8 Visualize Height per Type of Medal for Male and Female Athletes Faceted by Season\n",
    "\n",
    "Create a visualization showing the athelete height per type of medal (gold, silver, bronze) for Male and Female athletes, faceted (grouped) by Season (Summer, Winter).\n",
    "\n",
    "<details>\n",
    "<summary>View a similar (not necessarily identical) visualization so you know what you are aiming for (click to expand)</summary>\n",
    "\n",
    "> <img src=\"figures/task_3_8.png\" width=1100></img>\n",
    "\n",
    "</details>"
   ]
  },
  {
   "cell_type": "code",
   "execution_count": 63,
   "id": "312e504c",
   "metadata": {},
   "outputs": [],
   "source": [
    "# TODO: Write your code here to visualize the athelete height per type of medal for Male and Female athletes, grouped (faceted) by Season."
   ]
  },
  {
   "cell_type": "markdown",
   "id": "a9778427",
   "metadata": {},
   "source": [
    "---\n",
    "## Task 3.9 Visualize the Average Age per Sport\n",
    "\n",
    "Create a visualization showing the average athelete Age per Sport (Curling, Triathlon, Handball, Tennis, Gymastics, Football, etc.).\n",
    "\n",
    "<details>\n",
    "<summary>View a similar (not necessarily identical) visualization so you know what you are aiming for (click to expand)</summary>\n",
    "\n",
    "> <img src=\"figures/task_3_9.png\" width=1500></img>\n",
    "\n",
    "</details>"
   ]
  },
  {
   "cell_type": "code",
   "execution_count": 64,
   "id": "4727518d",
   "metadata": {},
   "outputs": [],
   "source": [
    "# TODO: Write your code here to visualize the average athelete Age per Sport."
   ]
  },
  {
   "cell_type": "markdown",
   "id": "1ddea4b6",
   "metadata": {},
   "source": [
    "---\n",
    "## Task 3.10 Visualize the Top 10 Countries (Regions) with Most Total Medals\n",
    "\n",
    "Create a visualization showing the number of total medals (gold, silver and bronze) awarded per country (region), for the top ten countries (regions) with most medals.\n",
    "\n",
    "<details>\n",
    "<summary>View a similar (not necessarily identical) visualization so you know what you are aiming for (click to expand)</summary>\n",
    "\n",
    "> <img src=\"figures/task_3_10.png\" width=1000></img>\n",
    "\n",
    "</details>"
   ]
  },
  {
   "cell_type": "code",
   "execution_count": 65,
   "id": "977a755a",
   "metadata": {},
   "outputs": [],
   "source": [
    "# TODO: Write your code here to visualize the top 10 countries (regions) with most total medals."
   ]
  },
  {
   "cell_type": "markdown",
   "id": "bc626c36",
   "metadata": {},
   "source": [
    "---\n",
    "## Task 3.11 Visualize the Top 10 Atheletes by Total Awarded Medals\n",
    "\n",
    "Create a visualization showing the top ten athletes by total number of awarded medals (gold, silver and bronze).\n",
    "\n",
    "<details>\n",
    "<summary>View a similar (not necessarily identical) visualization so you know what you are aiming for (click to expand)</summary>\n",
    "\n",
    "> <img src=\"figures/task_3_11.png\" width=1000></img>\n",
    "\n",
    "</details>"
   ]
  },
  {
   "cell_type": "code",
   "execution_count": 66,
   "id": "6c58d9de",
   "metadata": {},
   "outputs": [],
   "source": [
    "# TODO: Write your code here to visualize the top 10 athletes per total awarded Medals."
   ]
  },
  {
   "cell_type": "markdown",
   "id": "d5f54e23",
   "metadata": {},
   "source": [
    "---\n",
    "## Task 3.12 Visualize the Age, Height and Weight Distribution per Type of Medal\n",
    "\n",
    "Create three `subplots`, side-by-side, for comparison purposes:\n",
    "1. Create a visualization using a `boxplot` showing the Age distribution per medal type (gold, silver and bronze).\n",
    "2. Create a visualization using a `boxplot` showing the Height distribution per medal type (gold, silver and bronze).\n",
    "3. Create a visualization using a `boxplot` showing the Weight distribution per medal type (gold, silver and bronze).\n",
    "\n",
    "<details>\n",
    "<summary>View a similar (not necessarily identical) visualization so you know what you are aiming for (click to expand)</summary>\n",
    "\n",
    "> <img src=\"figures/task_3_12.png\" width=1500></img>\n",
    "\n",
    "</details>"
   ]
  },
  {
   "cell_type": "code",
   "execution_count": 67,
   "id": "ec1b0e52",
   "metadata": {},
   "outputs": [],
   "source": [
    "# TODO: Write your code here to visualize the Age, Height and Weight distribution per type of Medal."
   ]
  },
  {
   "cell_type": "markdown",
   "id": "4a86e5fa",
   "metadata": {},
   "source": [
    "---\n",
    "## Task 3.13 Interpret a Box Plot's Visual Elements\n",
    "\n",
    "A Box Plot (a.k.a. Box-and-Whiskers Plot) resembles a \"Box\" with \"Whiskers\" extending from the \"Box\" and usually some points below and above the \"Whiskers\".\n",
    "\n",
    "What information is shown in a  Box plot?\n",
    "\n",
    "- What does the \"Box\" represent?\n",
    "- What does the \"line\" inside the \"Box\" represent?\n",
    "- What does \"Box's\" lower \"line\" (bottom of the \"Box\") represent?\n",
    "- What does \"Box's\" upper \"line\" (top of the \"Box\") represent?\n",
    "- What does the lower \"whisker\" represent?\n",
    "- What does the upper \"whisker\" represent?\n",
    "- What do the data points below the lower \"whisker\" and above the upper \"whisker\" represent?"
   ]
  },
  {
   "cell_type": "code",
   "execution_count": 68,
   "id": "247acf99",
   "metadata": {},
   "outputs": [],
   "source": [
    "# TODO: Write your answer here.\n",
    "\n",
    "# The \"Box\" represents ...\n",
    "# The \"line\" inside the \"Box\" represents ...\n",
    "# THe \"Box's\" lower \"line\" (bottom of the \"Box\") represents ...\n",
    "# The \"Box's\" upper \"line\" (top of the \"Box\") represents ...\n",
    "# The lower \"whisker\" represents ...\n",
    "# The upper \"whisker\" represents ...\n",
    "# The data points below the lower \"whisker\" and above the upper \"whisker\" represent ..."
   ]
  },
  {
   "cell_type": "markdown",
   "id": "97e031e2",
   "metadata": {},
   "source": [
    "---\n",
    "# Task 4: Trend Visualizations\n",
    "---"
   ]
  },
  {
   "cell_type": "markdown",
   "id": "5d2f63b4",
   "metadata": {},
   "source": [
    "Use the [Matplotlib Gallery](https://matplotlib.org/stable/gallery/index.html) and [Seaborn Gallery](https://seaborn.pydata.org/examples/index.html) to consult the documentation and view code examples, if needed.\n",
    "- You can use either Matplotlib or Seaborn (or both) to create your plots.\n",
    "- When creating your plots, consider the **Semiology of graphical symbols**, i.e. the eight ways for graphical objects to encode information:\n",
    "  - Position\n",
    "  - Shape\n",
    "  - Size\n",
    "  - Brightness\n",
    "  - Color\n",
    "  - Orientation\n",
    "  - Texture\n",
    "  - Motion\n",
    "- Also consider the **expressiveness** and **effectiveness** of your visualizations, i.e.:\n",
    "  - Make sure you are expressing (mapping) the underlying data with your visual elements appropriately.\n",
    "  - Make sure you are not including too much information in your visualizations to make them more intuitive and more comprehensible to the user.\n",
    "- Reflect, mentally, on your visualizations.\n",
    "  - Are you using an appropriate plot?\n",
    "    - This might also include subplots.\n",
    "  - Are you using position, shape, size, color, etc. (semiology) appropriately?\n",
    "    - Are you using an appropriate color scale (color map)?\n",
    "    - Have you considered appropriate colors for color blindness?\n",
    "  - Is all the necessary (but not too much) information included in the visualization?\n",
    "    - This might also include figure titles, axis labels, legends, colorbars, etc.\n",
    "  - Is your mapping from data to visual elements appropriate?\n",
    "    - Does your visualization give a correct, or false, representation of the underlying data?\n",
    "  - When you look at your visualizations, how intuitive and comprehensible are they?\n",
    "    - Will a user quickly understand what the visualization is about?\n",
    "    - Will a user quickly discover important patterns?\n",
    "    - Will the user be able to quickly analyze the information?\n",
    "- Use *data mangling* to put the data into an appropriate format before creating a visualization.\n",
    "  - You can use a DataFrame's `groupby()` method (with or without aggrations), slicing, etc. before creating a visualization (it depends on what you are visualizing).\n",
    "\n",
    "**Recommended reading (not mandatory)**\n",
    "\n",
    "Franconeri, Padilla, Shah, Zacks & Hullman. (2021). The Science of Visual Data Communication: What Works, Psychological Science in the Public Interest, 22(3), 110-161. DOI: 10.1177/15291006211051956.\n",
    "[https://journals.sagepub.com/doi/10.1177/15291006211051956](https://journals.sagepub.com/doi/10.1177/15291006211051956)"
   ]
  },
  {
   "cell_type": "markdown",
   "id": "10adf90a",
   "metadata": {},
   "source": [
    "---\n",
    "## Task 4.1 Visualize Body Mass Index (BMI) Over Time\n",
    "\n",
    "Create a visualization showing the Body Mass Index (BMI) over time (years) for Male and Female athletes.\n",
    "\n",
    "<details>\n",
    "<summary>View a similar (not necessarily identical) visualization so you know what you are aiming for (click to expand)</summary>\n",
    "\n",
    "> <img src=\"figures/task_4_1.png\" width=1200></img>\n",
    "\n",
    "</details>"
   ]
  },
  {
   "cell_type": "code",
   "execution_count": 69,
   "id": "33d6d7b3",
   "metadata": {},
   "outputs": [],
   "source": [
    "# TODO: Write your code here to visualize Body Mass Index (BMI) over time (years) per Sex (Male, Female)."
   ]
  },
  {
   "cell_type": "markdown",
   "id": "3c1f6f53",
   "metadata": {},
   "source": [
    "---\n",
    "## Task 4.2 Visualize Gender (Sex) Participation Over Time\n",
    "\n",
    "Create a visualization showing the number of Male and Female athletes over time (years).\n",
    "\n",
    "<details>\n",
    "<summary>View a similar (not necessarily identical) visualization so you know what you are aiming for (click to expand)</summary>\n",
    "\n",
    "> <img src=\"figures/task_4_2.png\" width=1200></img>\n",
    "\n",
    "</details>"
   ]
  },
  {
   "cell_type": "code",
   "execution_count": 70,
   "id": "7e49116a",
   "metadata": {},
   "outputs": [],
   "source": [
    "# TODO: Write your code here to visualize gender participation over time."
   ]
  },
  {
   "cell_type": "markdown",
   "id": "29c1c2f6",
   "metadata": {},
   "source": [
    "---\n",
    "# Task 5: Correlation Visualizations\n",
    "---"
   ]
  },
  {
   "cell_type": "markdown",
   "id": "08134cf6",
   "metadata": {},
   "source": [
    "Use the [Matplotlib Gallery](https://matplotlib.org/stable/gallery/index.html) and [Seaborn Gallery](https://seaborn.pydata.org/examples/index.html) to consult the documentation and view code examples, if needed.\n",
    "- You can use either Matplotlib or Seaborn (or both) to create your plots.\n",
    "- When creating your plots, consider the **Semiology of graphical symbols**, i.e. the eight ways for graphical objects to encode information:\n",
    "  - Position\n",
    "  - Shape\n",
    "  - Size\n",
    "  - Brightness\n",
    "  - Color\n",
    "  - Orientation\n",
    "  - Texture\n",
    "  - Motion\n",
    "- Also consider the **expressiveness** and **effectiveness** of your visualizations, i.e.:\n",
    "  - Make sure you are expressing (mapping) the underlying data with your visual elements appropriately.\n",
    "  - Make sure you are not including too much information in your visualizations to make them more intuitive and more comprehensible to the user.\n",
    "- Reflect, mentally, on your visualizations.\n",
    "  - Are you using an appropriate plot?\n",
    "    - This might also include subplots.\n",
    "  - Are you using position, shape, size, color, etc. (semiology) appropriately?\n",
    "    - Are you using an appropriate color scale (color map)?\n",
    "    - Have you considered appropriate colors for color blindness?\n",
    "  - Is all the necessary (but not too much) information included in the visualization?\n",
    "    - This might also include figure titles, axis labels, legends, colorbars, etc.\n",
    "  - Is your mapping from data to visual elements appropriate?\n",
    "    - Does your visualization give a correct, or false, representation of the underlying data?\n",
    "  - When you look at your visualizations, how intuitive and comprehensible are they?\n",
    "    - Will a user quickly understand what the visualization is about?\n",
    "    - Will a user quickly discover important patterns?\n",
    "    - Will the user be able to quickly analyze the information?\n",
    "- Use *data mangling* to put the data into an appropriate format before creating a visualization.\n",
    "  - You can use a DataFrame's `groupby()` method (with or without aggrations), slicing, etc. before creating a visualization (it depends on what you are visualizing).\n",
    "\n",
    "**Recommended reading (not mandatory)**\n",
    "\n",
    "Franconeri, Padilla, Shah, Zacks & Hullman. (2021). The Science of Visual Data Communication: What Works, Psychological Science in the Public Interest, 22(3), 110-161. DOI: 10.1177/15291006211051956.\n",
    "[https://journals.sagepub.com/doi/10.1177/15291006211051956](https://journals.sagepub.com/doi/10.1177/15291006211051956)"
   ]
  },
  {
   "cell_type": "markdown",
   "id": "c1177565",
   "metadata": {},
   "source": [
    "---\n",
    "## Task 5.1 Visualize Pairwise Correlations of Athlete's Age, Height and Weight per Sex with a `pairplot`\n",
    "\n",
    "Create a `pairplot` showing the pariwise correlations of athlete Age, Height and Weight, color-coded by Sex (Male, Female).\n",
    "\n",
    "<details>\n",
    "<summary>View a similar (not necessarily identical) visualization so you know what you are aiming for (click to expand)</summary>\n",
    "\n",
    "> <img src=\"figures/task_5_1.png\" width=800></img>\n",
    "\n",
    "</details>"
   ]
  },
  {
   "cell_type": "code",
   "execution_count": 71,
   "id": "44a65b82",
   "metadata": {},
   "outputs": [],
   "source": [
    "# TODO: Write your code here to visualize pairwise correlations of athlete Age, Height and Weight per Sex using a pair plot."
   ]
  },
  {
   "cell_type": "markdown",
   "id": "44fc84ad",
   "metadata": {},
   "source": [
    "---\n",
    "## Task 5.2 Visualize Pairwise Correlations of the Numeric Features with a `heatmap`\n",
    "\n",
    "Create a `heatmap` showing the pariwise correlations of the numeric features (columns).\n",
    "- The numeric features (columns) are `ID`, `Age`, `Height`, `Weight`, `BMI`, `Latitude`, `Longitude`, and `Year`.\n",
    "- Hint: a Pandas DataFrame has a `corr()` method.\n",
    "\n",
    "<details>\n",
    "<summary>View a similar (not necessarily identical) visualization so you know what you are aiming for (click to expand)</summary>\n",
    "\n",
    "> <img src=\"figures/task_5_2.png\" width=700></img>\n",
    "\n",
    "</details>"
   ]
  },
  {
   "cell_type": "code",
   "execution_count": 72,
   "id": "86d4b6bc",
   "metadata": {},
   "outputs": [],
   "source": [
    "# TODO: Write your code here to visualize pairwise correlations of the numeric featues (columns) using a heat map."
   ]
  },
  {
   "cell_type": "markdown",
   "id": "fbb76075",
   "metadata": {},
   "source": [
    "---\n",
    "## Task 5.3 Visualize Atheltes' Weight versus Height per Sex with a `lineplot`\n",
    "\n",
    "Create a visualization showing the athelete Weight versus Height per Sex (Male, Female) using a `lineplot`.\n",
    "\n",
    "<details>\n",
    "<summary>View a similar (not necessarily identical) visualization so you know what you are aiming for (click to expand)</summary>\n",
    "\n",
    "> <img src=\"figures/task_5_3.png\" width=1400></img>\n",
    "\n",
    "</details>"
   ]
  },
  {
   "cell_type": "code",
   "execution_count": 73,
   "id": "562c075e",
   "metadata": {},
   "outputs": [],
   "source": [
    "# TODO: Write your code here to visualize athlete Weight versus Height per Sex (Male, Female) using a line plot."
   ]
  },
  {
   "cell_type": "markdown",
   "id": "e812ff95",
   "metadata": {},
   "source": [
    "---\n",
    "## Task 5.4 Visualize Atheltes' Weight versus Height per Sex with a `scatterplot`\n",
    "\n",
    "Create a visualization showing the athelete Weight versus Height per Sex (Male, Female) using a `scatterplot`.\n",
    "\n",
    "<details>\n",
    "<summary>View a similar (not necessarily identical) visualization so you know what you are aiming for (click to expand)</summary>\n",
    "\n",
    "> <img src=\"figures/task_5_4.png\" width=700></img>\n",
    "\n",
    "</details>"
   ]
  },
  {
   "cell_type": "code",
   "execution_count": 74,
   "id": "0ca7f232",
   "metadata": {},
   "outputs": [],
   "source": [
    "# TODO: Write your code here to visualize athlete Weight versus Height per Sex (Male, Female) using a scatter plot."
   ]
  },
  {
   "cell_type": "markdown",
   "id": "0f0cf48b",
   "metadata": {},
   "source": [
    "---\n",
    "# Task 6: Map Visualizations\n",
    "---"
   ]
  },
  {
   "cell_type": "markdown",
   "id": "55b2e5c6",
   "metadata": {},
   "source": [
    "Use the [Matplotlib Gallery](https://matplotlib.org/stable/gallery/index.html) and [Seaborn Gallery](https://seaborn.pydata.org/examples/index.html) to consult the documentation and view code examples, if needed.\n",
    "- You can use either Matplotlib or Seaborn (or both) to create your plots.\n",
    "- When creating your plots, consider the **Semiology of graphical symbols**, i.e. the eight ways for graphical objects to encode information:\n",
    "  - Position\n",
    "  - Shape\n",
    "  - Size\n",
    "  - Brightness\n",
    "  - Color\n",
    "  - Orientation\n",
    "  - Texture\n",
    "  - Motion\n",
    "- Also consider the **expressiveness** and **effectiveness** of your visualizations, i.e.:\n",
    "  - Make sure you are expressing (mapping) the underlying data with your visual elements appropriately.\n",
    "  - Make sure you are not including too much information in your visualizations to make them more intuitive and more comprehensible to the user.\n",
    "- Reflect, mentally, on your visualizations.\n",
    "  - Are you using an appropriate plot?\n",
    "    - This might also include subplots.\n",
    "  - Are you using position, shape, size, color, etc. (semiology) appropriately?\n",
    "    - Are you using an appropriate color scale (color map)?\n",
    "    - Have you considered appropriate colors for color blindness?\n",
    "  - Is all the necessary (but not too much) information included in the visualization?\n",
    "    - This might also include figure titles, axis labels, legends, colorbars, etc.\n",
    "  - Is your mapping from data to visual elements appropriate?\n",
    "    - Does your visualization give a correct, or false, representation of the underlying data?\n",
    "  - When you look at your visualizations, how intuitive and comprehensible are they?\n",
    "    - Will a user quickly understand what the visualization is about?\n",
    "    - Will a user quickly discover important patterns?\n",
    "    - Will the user be able to quickly analyze the information?\n",
    "- Use *data mangling* to put the data into an appropriate format before creating a visualization.\n",
    "  - You can use a DataFrame's `groupby()` method (with or without aggrations), slicing, etc. before creating a visualization (it depends on what you are visualizing).\n",
    "\n",
    "**Recommended reading (not mandatory)**\n",
    "\n",
    "Franconeri, Padilla, Shah, Zacks & Hullman. (2021). The Science of Visual Data Communication: What Works, Psychological Science in the Public Interest, 22(3), 110-161. DOI: 10.1177/15291006211051956.\n",
    "[https://journals.sagepub.com/doi/10.1177/15291006211051956](https://journals.sagepub.com/doi/10.1177/15291006211051956)"
   ]
  },
  {
   "cell_type": "markdown",
   "id": "0cd7a072",
   "metadata": {},
   "source": [
    "---\n",
    "## Task 6.1 Visualize Number of Medals on a Map for the Nordic Countries\n",
    "\n",
    "Create a visualization showing the number of Medals awarded for the nordic countries (Sweden, Norway, Denmark, Finland).\n",
    "\n",
    "<details>\n",
    "<summary>View a similar (not necessarily identical) visualization so you know what you are aiming for (click to expand)</summary>\n",
    "\n",
    "> <img src=\"figures/task_6_1.png\" width=800></img>\n",
    "\n",
    "</details>"
   ]
  },
  {
   "cell_type": "code",
   "execution_count": 75,
   "id": "8184c1d5",
   "metadata": {},
   "outputs": [],
   "source": [
    "# TODO: Write your code here to visualize the number of Medals on a Map for the nordic countries."
   ]
  },
  {
   "cell_type": "markdown",
   "id": "3bb19483",
   "metadata": {},
   "source": [
    "---\n",
    "# Task 7: Submission\n",
    "---"
   ]
  },
  {
   "cell_type": "markdown",
   "id": "ca47c4ee",
   "metadata": {},
   "source": [
    "## Task 7.1 Verify the Integrity of your Notebook"
   ]
  },
  {
   "cell_type": "markdown",
   "id": "75fdcf65",
   "metadata": {},
   "source": [
    "The final task is to verify your Notebook before submitting it, and of course submitting it via Canvas.\n",
    "\n",
    "- Have you included any additional packages you might have used in your Notebook under [Python Packages](#python-packages)?\n",
    "- Have you imported any additional modules you might have used in your Notebook under [Python Modules](#python-modules)?\n",
    "- Is your Pandas DataFrame (`df`) identical to the DataFrame `df_verify` under [Task 1.1 Data Loading, Data Fusion, Data Cleaning, and Feature Engineering](#task-11-data-loading-data-fusion-data-cleaning-and-feature-engineering)?\n",
    "- Have you completed all tasks (`TODOs`) in the Notebook?\n",
    "- Have you reflected over your visualizations (semiology, expressiveness, effectiveness, etc.)?\n",
    "\n",
    "When you are done:\n",
    "- Click the `Restart` button at the top of the Notebook to restart the Jupyter Notebook kernel.\n",
    "- Then click the `Run All` button at the top of the Notebook, to execute all Notebook cells.\n",
    "  - Check that all Notebook cells executed successfully with the desired results."
   ]
  },
  {
   "cell_type": "markdown",
   "id": "064596a9",
   "metadata": {},
   "source": [
    "---\n",
    "## Task 7.2 Submit the Assignment"
   ]
  },
  {
   "cell_type": "markdown",
   "id": "2b3e9657",
   "metadata": {},
   "source": [
    "- Save you Notebook and submit it via [Canvas](https://hb.instructure.com/courses/10009/assignments/40722) before the deadline (only submit one `.ipynb` file)."
   ]
  },
  {
   "cell_type": "markdown",
   "id": "f75fa0a3",
   "metadata": {},
   "source": []
  }
 ],
 "metadata": {
  "kernelspec": {
   "display_name": "Python 3",
   "language": "python",
   "name": "python3"
  },
  "language_info": {
   "codemirror_mode": {
    "name": "ipython",
    "version": 3
   },
   "file_extension": ".py",
   "mimetype": "text/x-python",
   "name": "python",
   "nbconvert_exporter": "python",
   "pygments_lexer": "ipython3",
   "version": "3.13.7"
   "version": "3.12.11"
  }
 },
 "nbformat": 4,
 "nbformat_minor": 5
}
