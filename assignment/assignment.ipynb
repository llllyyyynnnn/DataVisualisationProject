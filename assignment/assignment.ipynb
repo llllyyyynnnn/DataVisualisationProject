{
 "cells": [
  {
   "cell_type": "markdown",
   "id": "f6fbe566",
   "metadata": {},
   "source": [
    "---\n",
    "# Assignment: Data Visualization using a Visualization Library\n",
    "---\n",
    "\n",
    "#### In this assignment, you will conduct an exploratory data analysis with visualizations on an Olympic Athletes dataset.\n",
    "\n",
    "How to use this Notebook:\n",
    "-  Firstly, make sure you have completed [1. Setup](#1-setup).\n",
    "-  Secondly, complete [Task 1: Preprocessing](#task-1-preprocessing).\n",
    "-  Then, you can complete [Task 2: Summary Statistics](#task-2-summary-statistics) to [Task 6: Map Visualizations](#task-6-map-visualizations) in any order.\n",
    "-  Lastly, complete [Task 7: Submission](#task-7-submission).\n",
    "\n",
    "The various tasks contain Notebook cells with `TODO`s.\n",
    "- You need to complete all `TODO`s.\n",
    "\n",
    "Assignment files and folders.\n",
    "- The file `assignment.ipynb` is this Notebook.\n",
    "- The folder `data` contains:\n",
    "  - 4 `.csv` files with the data for this assignment.\n",
    "  - A `verify.pkl` file you can use to verify your solution in [Task 1.1 Data Loading, Data Fusion, Data Cleaning, and Feature Engineering](#task-11-data-loading-data-fusion-data-cleaning-and-feature-engineering).\n",
    "- The folder `figures` contains:\n",
    "  - 19 `.png` figures you can use to verify your solutions to the visualization tasks in [Task 3: Distribution Visualizations](#task-3-distribution-visualizations) to [Task 6: Map Visualizations](#task-6-map-visualizations).\n",
    "  - Your visualizations need to be similar, but not identical to, the sample visualizations.\n",
    "  - The sample visualizations are provided as an aid so that you know what to aim for.\n",
    "\n",
    "This Notebook contains:\n",
    "\n",
    "- [1. Setup](#1-setup)\n",
    "  - [Python Virtual Environment](#python-virtual-environment)\n",
    "  - [Python and Pip Version](#python-and-pip-version)\n",
    "  - [Python Packages](#python-packages)\n",
    "  - [Python Modules](#python-modules)\n",
    "  - [Pandas Configuration](#pandas-configuration)\n",
    "  - [Dataset](#dataset)\n",
    "- [Task 1: Preprocessing](#task-1-preprocessing)\n",
    "  - [Task 1.1 Data Loading, Data Fusion, Data Cleaning, and Feature Engineering](#task-11-data-loading-data-fusion-data-cleaning-and-feature-engineering)\n",
    "  - [Task 1.2 Feature Measurement Scales](#task-12-feature-measurement-scales)\n",
    "- [Task 2: Summary Statistics](#task-2-summary-statistics)\n",
    "  - [Task 2.1 Missing Values](#task-21-missing-values)\n",
    "  - [Task 2.2 Unique Values](#task-22-unique-values)\n",
    "  - [Task 2.3 Value Counts](#task-23-value-counts)\n",
    "  - [Task 2.4 Central Tendency and Spread](#task-24-central-tendency-and-spread)\n",
    "  - [Task 2.5 Outliers](#task-25-outliers)\n",
    "- [Task 3: Distribution Visualizations](#task-3-distribution-visualizations)\n",
    "  - [Task 3.1 Visualize the Distribution of Male and Female Athletes](#task-31-visualize-the-distribution-of-male-and-female-athletes)\n",
    "  - [Task 3.2 Visualize the Distribution of Athletes' Age](#task-32-visualize-the-distribution-of-athletes-age)\n",
    "  - [Task 3.3 Visualize the Distribution of Athletes' Height](#task-33-visualize-the-distribution-of-athletes-height)\n",
    "  - [Task 3.4 Visualize the Distribution of Athletes' Weight](#task-34-visualize-the-distribution-of-athletes-weight)\n",
    "  - [Task 3.5 Visualize the Distribution in Height of Male and Female Athletes](#task-35-visualize-the-distribution-in-height-of-male-and-female-athletes)\n",
    "  - [Task 3.6 Visualize the Height per Type of Medal for Male and Female Athletes](#task-36-visualize-the-height-per-type-of-medal-for-male-and-female-athletes)\n",
    "  - [Task 3.7 Visualize the Weight per Type of Medal for Male and Female Athletes](#task-37-visualize-the-weight-per-type-of-medal-for-male-and-female-athletes)\n",
    "  - [Task 3.8 Visualize Height per Type of Medal for Male and Female Athletes Faceted by Season](#task-38-visualize-height-per-type-of-medal-for-male-and-female-athletes-faceted-by-season)\n",
    "  - [Task 3.9 Visualize the Average Age per Sport](#task-39-visualize-the-average-age-per-sport)\n",
    "  - [Task 3.10 Visualize the Top 10 Countries (Regions) with Most Total Medals](#task-310-visualize-the-top-10-countries-regions-with-most-total-medals)\n",
    "  - [Task 3.11 Visualize the Top 10 Atheletes by Total Awarded Medals](#task-311-visualize-the-top-10-atheletes-by-total-awarded-medals)\n",
    "  - [Task 3.12 Visualize the Age, Height and Weight Distribution per Type of Medal](#task-312-visualize-the-age-height-and-weight-distribution-per-type-of-medal)\n",
    "  - [Task 3.13 Interpret a Box Plot's Visual Elements](#task-313-interpret-a-box-plots-visual-elements)\n",
    "- [Task 4: Trend Visualizations](#task-4-trend-visualizations)\n",
    "  - [Task 4.1 Visualize Body Mass Index (BMI) Over Time](#task-41-visualize-body-mass-index-bmi-over-time)\n",
    "  - [Task 4.2 Visualize Gender (Sex) Participation Over Time](#task-42-visualize-gender-sex-participation-over-time)\n",
    "- [Task 5: Correlation Visualizations](#task-5-correlation-visualizations)\n",
    "  - [Task 5.1 Visualize Pairwise Correlations of Athlete's Age, Height and Weight per Sex with a `pairplot`](#task-51-visualize-pairwise-correlations-of-athletes-age-height-and-weight-per-sex-with-a-pairplot)\n",
    "  - [Task 5.2 Visualize Pairwise Correlations of the Numeric Features with a `heatmap`](#task-52-visualize-pairwise-correlations-of-the-numeric-features-with-a-heatmap)\n",
    "  - [Task 5.3 Visualize Atheltes' Weight versus Height per Sex with a `lineplot`](#task-53-visualize-atheltes-weight-versus-height-per-sex-with-a-lineplot)\n",
    "  - [Task 5.4 Visualize Atheltes' Weight versus Height per Sex with a `scatterplot`](#task-54-visualize-atheltes-weight-versus-height-per-sex-with-a-scatterplot)\n",
    "- [Task 6: Map Visualizations](#task-6-map-visualizations)\n",
    "  - [Task 6.1 Visualize Number of Medals on a Map for the Nordic Countries](#task-61-visualize-number-of-medals-on-a-map-for-the-nordic-countries)\n",
    "- [Task 7: Submission](#task-7-submission)\n",
    "  - [Task 7.1 Verify the Integrity of your Notebook](#task-71-verify-the-integrity-of-your-notebook)\n",
    "  - [Task 7.2 Submit the Assignment](#task-72-submit-the-assignment)"
   ]
  },
  {
   "cell_type": "markdown",
   "id": "35f1995a",
   "metadata": {},
   "source": [
    "---\n",
    "# Setup\n",
    "---"
   ]
  },
  {
   "cell_type": "markdown",
   "id": "ea6aa0e8",
   "metadata": {},
   "source": [
    "## Python Virtual Environment\n",
    "\n",
    "- Make sure you have downloaded the GitHub repository (which contains the assignment).\n",
    "  - **Alternative 1**: You can use the same `git clone` as in the workshops.\n",
    "\n",
    "    ```bash\n",
    "    git clone https://github.com/paga-hb/C1VI1B_2025.git dataviz\n",
    "    cd dataviz\n",
    "    ```\n",
    "\n",
    "  - **Alternative 2**: You can `git clone` the repository into another folder just for the assignment.\n",
    "\n",
    "    ```bash\n",
    "    git clone https://github.com/paga-hb/C1VI1B_2025.git dataviz_assignment\n",
    "    cd dataviz_assignment\n",
    "    ```\n",
    "\n",
    "- Make sure you have created a Python Virtual Environment as below.\n",
    "\n",
    "    ```bash\n",
    "    conda create -y -p ./.conda python=3.12\n",
    "    conda activate ./.conda\n",
    "    python -m pip install --upgrade pip\n",
    "    pip install ipykernel jupyter pylance numpy pandas matplotlib seaborn basemap pillow\n",
    "    # You can install more packages, but for this assignment you need (at least) the packages listed above\n",
    "    ```\n",
    "\n",
    "- Also make sure you have selected your Python Virtual Environment in your Notebook.\n",
    "  - In the top right of your Notebook, click `Select Kernel`.\n",
    "  - Choose your Python Virtual Environment."
   ]
  },
  {
   "cell_type": "markdown",
   "id": "753981c0",
   "metadata": {},
   "source": [
    "---\n",
    "## Python and Pip Version\n",
    "\n",
    "Let's start by printing out the Python and Pip version you are using in your Python Virtual Environment."
   ]
  },
  {
   "cell_type": "code",
   "execution_count": 3,
   "id": "e834e9f8",
   "metadata": {},
   "outputs": [
    {
     "name": "stdout",
     "output_type": "stream",
     "text": [
      "Python 3.12.11\n",
      "pip 25.2 from /home/patrick/projects/dataviz/.conda/lib/python3.12/site-packages/pip (python 3.12)\n"
     ]
    }
   ],
   "source": [
    "!python --version\n",
    "!pip --version"
   ]
  },
  {
   "cell_type": "markdown",
   "id": "c847789c",
   "metadata": {},
   "source": [
    "---\n",
    "## Python Packages\n",
    "\n",
    "Let's also make sure the necessary Python packages are installed in our Python Virtual Environment.\n",
    "- I have included some default packages below (many of which might already be installed in your Python Virtual Environment).\n",
    "- If you use any other `pip` or `conda` packages, add them in the cell below.\n",
    "  - Use `%pip install <package>` for Pip packages.\n",
    "  - Use `%conda install <package>` for Conda packages.\n",
    "\n",
    "\n",
    "Note\n",
    "- When you install a `conda` package, you might have to restart your Jupyter Notebook kernel.\n",
    "- To restart your Jupyter Notebook kernel, click the `Restart` button at the top of the Notebook."
   ]
  },
  {
   "cell_type": "code",
   "execution_count": null,
   "id": "cabe0257",
   "metadata": {},
   "outputs": [],
   "source": [
    "%pip install ipykernel\n",
    "%pip install jupyter\n",
    "%pip install pylance\n",
    "%pip install numpy\n",
    "%pip install pandas\n",
    "%pip install matplotlib\n",
    "%pip install seaborn\n",
    "%pip install basemap\n",
    "%pip install pillow"
   ]
  },
  {
   "cell_type": "markdown",
   "id": "6a13e09a",
   "metadata": {},
   "source": [
    "---\n",
    "## Python Modules\n",
    "\n",
    "Let's import the necessary Python modules from the installed Python packages.\n",
    "- Numpy and Pandas are used for data mangling.\n",
    "- Matplotlib and/or Seaborn are used for visualizations.\n",
    "- If you need more imports, add them in the cell below."
   ]
  },
  {
   "cell_type": "code",
   "execution_count": 4,
   "id": "103f4200",
   "metadata": {},
   "outputs": [],
   "source": [
    "import numpy as np\n",
    "import pandas as pd\n",
    "import matplotlib.pyplot as plt\n",
    "import seaborn as sns\n",
    "from mpl_toolkits.basemap import Basemap"
   ]
  },
  {
   "cell_type": "markdown",
   "id": "67b1531a",
   "metadata": {},
   "source": [
    "---\n",
    "## Pandas Configuration\n",
    "\n",
    "Let's also configure Pandas to set the maximum number of rows and columns displayed from a `DataFrame` in a Jupyter Notebook cell.\n",
    "- Configuring the maximum number of rows.\n",
    "  - `pd.set_option('display.max_rows', None)` displays an unlimited number of rows (don't use this when working with large `DataFrame`s).\n",
    "  - `pd.set_option('display.max_rows', 25)` displays a maximum of `25` rows.\n",
    "  - `pd.reset_option('display.max_rows')` resets the number of rows to the default setting.\n",
    "- Configuring the maximum number of columns.\n",
    "  - `pd.set_option('display.max_columns', None)` displays an unlimited number of columns.\n",
    "  - `pd.set_option('display.max_columns', 25)` displays a maximum of `25` columns.\n",
    "  - `pd.reset_option('display.max_columns')` resets the number of columns to the default setting."
   ]
  },
  {
   "cell_type": "code",
   "execution_count": 5,
   "id": "cb1d47d1",
   "metadata": {},
   "outputs": [],
   "source": [
    "pd.reset_option('display.max_rows')        # show default number of rows\n",
    "pd.set_option('display.max_columns', None) # show all columns"
   ]
  },
  {
   "cell_type": "markdown",
   "id": "7a3c031a",
   "metadata": {},
   "source": [
    "---\n",
    "## Dataset\n",
    "\n",
    "Let's load a pre-processed dataset containing information about Olymic athletes, events they competed in, etc., and inspect the features (columns).\n",
    "- `ID` is a unique identifier for an athlete.\n",
    "- `Name` is the athlete's name.\n",
    "- `Sex` is the athlete's sex, `M` for Male, or `F` for female.\n",
    "- `Age` is the athlete's age, for a specific `Year`.\n",
    "- `Height` is the athlete's height in centimeters (cm).\n",
    "- `Weight` is the athlete's weight in kilograms (kg).\n",
    "- `BMI` is the athlete's Body Mass Index, calculated as the weight (in kilograms) divided by the height (in meters): $BMI = \\frac{Weight[kg]}{Height[m]^2}$\n",
    "- `Team` is the Olympic team the athlete is a member of.\n",
    "- `NOC` is the National Olympic Committee country code for the athlete.\n",
    "- `Region` is the region associated with the athlete's `NOC`.\n",
    "- `ISO3` is the ISO 3166-1 alpha-3 country code (a 3-letter code) for the athlete's country.\n",
    "- `Country` is the country name associated with the `ISO3` country code.\n",
    "- `Latitude` is the country's geographic latitude.\n",
    "- `Longitude` is the country's geographic longitude.\n",
    "- `Games` is the name of the Olymic games, e.g. `1992 Summer` for the 1992 summer games.\n",
    "- `Year` is the year of the Olymipc games.\n",
    "- `Season` is the season for the Olymipc games, i.e. `Summer` or `Winter`.\n",
    "- `City` is the city in which the Olymic games were held.\n",
    "- `Sport` is Olympic sport the athlete competed in.\n",
    "- `Event` is Olympic event the athlete competed in.\n",
    "- `Medal` is medal (Gold, Silver, Bronze) awarded to the athlete, if any."
   ]
  },
  {
   "cell_type": "code",
   "execution_count": 7,
   "id": "6385a7b6",
   "metadata": {},
   "outputs": [
    {
     "name": "stdout",
     "output_type": "stream",
     "text": [
      "Number of rows: 269731\n",
      "Number of columns: 21\n"
     ]
    },
    {
     "data": {
      "text/html": [
       "<div>\n",
       "<style scoped>\n",
       "    .dataframe tbody tr th:only-of-type {\n",
       "        vertical-align: middle;\n",
       "    }\n",
       "\n",
       "    .dataframe tbody tr th {\n",
       "        vertical-align: top;\n",
       "    }\n",
       "\n",
       "    .dataframe thead th {\n",
       "        text-align: right;\n",
       "    }\n",
       "</style>\n",
       "<table border=\"1\" class=\"dataframe\">\n",
       "  <thead>\n",
       "    <tr style=\"text-align: right;\">\n",
       "      <th></th>\n",
       "      <th>ID</th>\n",
       "      <th>Name</th>\n",
       "      <th>Sex</th>\n",
       "      <th>Age</th>\n",
       "      <th>Height</th>\n",
       "      <th>Weight</th>\n",
       "      <th>BMI</th>\n",
       "      <th>Team</th>\n",
       "      <th>NOC</th>\n",
       "      <th>Region</th>\n",
       "      <th>...</th>\n",
       "      <th>Country</th>\n",
       "      <th>Latitude</th>\n",
       "      <th>Longitude</th>\n",
       "      <th>Games</th>\n",
       "      <th>Year</th>\n",
       "      <th>Season</th>\n",
       "      <th>City</th>\n",
       "      <th>Sport</th>\n",
       "      <th>Event</th>\n",
       "      <th>Medal</th>\n",
       "    </tr>\n",
       "  </thead>\n",
       "  <tbody>\n",
       "    <tr>\n",
       "      <th>0</th>\n",
       "      <td>1</td>\n",
       "      <td>A Dijiang</td>\n",
       "      <td>M</td>\n",
       "      <td>24.0</td>\n",
       "      <td>180.0</td>\n",
       "      <td>80.0</td>\n",
       "      <td>24.691358</td>\n",
       "      <td>China</td>\n",
       "      <td>CHN</td>\n",
       "      <td>China</td>\n",
       "      <td>...</td>\n",
       "      <td>China</td>\n",
       "      <td>35.0</td>\n",
       "      <td>105.00</td>\n",
       "      <td>1992 Summer</td>\n",
       "      <td>1992</td>\n",
       "      <td>Summer</td>\n",
       "      <td>Barcelona</td>\n",
       "      <td>Basketball</td>\n",
       "      <td>Basketball Men's Basketball</td>\n",
       "      <td>NaN</td>\n",
       "    </tr>\n",
       "    <tr>\n",
       "      <th>1</th>\n",
       "      <td>2</td>\n",
       "      <td>A Lamusi</td>\n",
       "      <td>M</td>\n",
       "      <td>23.0</td>\n",
       "      <td>170.0</td>\n",
       "      <td>60.0</td>\n",
       "      <td>20.761246</td>\n",
       "      <td>China</td>\n",
       "      <td>CHN</td>\n",
       "      <td>China</td>\n",
       "      <td>...</td>\n",
       "      <td>China</td>\n",
       "      <td>35.0</td>\n",
       "      <td>105.00</td>\n",
       "      <td>2012 Summer</td>\n",
       "      <td>2012</td>\n",
       "      <td>Summer</td>\n",
       "      <td>London</td>\n",
       "      <td>Judo</td>\n",
       "      <td>Judo Men's Extra-Lightweight</td>\n",
       "      <td>NaN</td>\n",
       "    </tr>\n",
       "    <tr>\n",
       "      <th>2</th>\n",
       "      <td>3</td>\n",
       "      <td>Gunnar Nielsen Aaby</td>\n",
       "      <td>M</td>\n",
       "      <td>24.0</td>\n",
       "      <td>NaN</td>\n",
       "      <td>NaN</td>\n",
       "      <td>NaN</td>\n",
       "      <td>Denmark</td>\n",
       "      <td>DEN</td>\n",
       "      <td>Denmark</td>\n",
       "      <td>...</td>\n",
       "      <td>Denmark</td>\n",
       "      <td>56.0</td>\n",
       "      <td>10.00</td>\n",
       "      <td>1920 Summer</td>\n",
       "      <td>1920</td>\n",
       "      <td>Summer</td>\n",
       "      <td>Antwerpen</td>\n",
       "      <td>Football</td>\n",
       "      <td>Football Men's Football</td>\n",
       "      <td>NaN</td>\n",
       "    </tr>\n",
       "    <tr>\n",
       "      <th>3</th>\n",
       "      <td>4</td>\n",
       "      <td>Edgar Lindenau Aabye</td>\n",
       "      <td>M</td>\n",
       "      <td>34.0</td>\n",
       "      <td>NaN</td>\n",
       "      <td>NaN</td>\n",
       "      <td>NaN</td>\n",
       "      <td>Denmark/Sweden</td>\n",
       "      <td>DEN</td>\n",
       "      <td>Denmark</td>\n",
       "      <td>...</td>\n",
       "      <td>Denmark</td>\n",
       "      <td>56.0</td>\n",
       "      <td>10.00</td>\n",
       "      <td>1900 Summer</td>\n",
       "      <td>1900</td>\n",
       "      <td>Summer</td>\n",
       "      <td>Paris</td>\n",
       "      <td>Tug-Of-War</td>\n",
       "      <td>Tug-Of-War Men's Tug-Of-War</td>\n",
       "      <td>Gold</td>\n",
       "    </tr>\n",
       "    <tr>\n",
       "      <th>4</th>\n",
       "      <td>5</td>\n",
       "      <td>Christine Jacoba Aaftink</td>\n",
       "      <td>F</td>\n",
       "      <td>21.0</td>\n",
       "      <td>185.0</td>\n",
       "      <td>82.0</td>\n",
       "      <td>23.959094</td>\n",
       "      <td>Netherlands</td>\n",
       "      <td>NED</td>\n",
       "      <td>Netherlands</td>\n",
       "      <td>...</td>\n",
       "      <td>Netherlands</td>\n",
       "      <td>52.5</td>\n",
       "      <td>5.75</td>\n",
       "      <td>1988 Winter</td>\n",
       "      <td>1988</td>\n",
       "      <td>Winter</td>\n",
       "      <td>Calgary</td>\n",
       "      <td>Speed Skating</td>\n",
       "      <td>Speed Skating Women's 500 metres</td>\n",
       "      <td>NaN</td>\n",
       "    </tr>\n",
       "  </tbody>\n",
       "</table>\n",
       "<p>5 rows × 21 columns</p>\n",
       "</div>"
      ],
      "text/plain": [
       "   ID                      Name Sex   Age  Height  Weight        BMI  \\\n",
       "0   1                 A Dijiang   M  24.0   180.0    80.0  24.691358   \n",
       "1   2                  A Lamusi   M  23.0   170.0    60.0  20.761246   \n",
       "2   3       Gunnar Nielsen Aaby   M  24.0     NaN     NaN        NaN   \n",
       "3   4      Edgar Lindenau Aabye   M  34.0     NaN     NaN        NaN   \n",
       "4   5  Christine Jacoba Aaftink   F  21.0   185.0    82.0  23.959094   \n",
       "\n",
       "             Team  NOC       Region  ...      Country Latitude  Longitude  \\\n",
       "0           China  CHN        China  ...        China     35.0     105.00   \n",
       "1           China  CHN        China  ...        China     35.0     105.00   \n",
       "2         Denmark  DEN      Denmark  ...      Denmark     56.0      10.00   \n",
       "3  Denmark/Sweden  DEN      Denmark  ...      Denmark     56.0      10.00   \n",
       "4     Netherlands  NED  Netherlands  ...  Netherlands     52.5       5.75   \n",
       "\n",
       "         Games  Year  Season       City          Sport  \\\n",
       "0  1992 Summer  1992  Summer  Barcelona     Basketball   \n",
       "1  2012 Summer  2012  Summer     London           Judo   \n",
       "2  1920 Summer  1920  Summer  Antwerpen       Football   \n",
       "3  1900 Summer  1900  Summer      Paris     Tug-Of-War   \n",
       "4  1988 Winter  1988  Winter    Calgary  Speed Skating   \n",
       "\n",
       "                              Event Medal  \n",
       "0       Basketball Men's Basketball   NaN  \n",
       "1      Judo Men's Extra-Lightweight   NaN  \n",
       "2           Football Men's Football   NaN  \n",
       "3       Tug-Of-War Men's Tug-Of-War  Gold  \n",
       "4  Speed Skating Women's 500 metres   NaN  \n",
       "\n",
       "[5 rows x 21 columns]"
      ]
     },
     "execution_count": 7,
     "metadata": {},
     "output_type": "execute_result"
    }
   ],
   "source": [
    "df_verify = pd.read_pickle('data/verify.pkl')\n",
    "print(f'Number of rows: {df_verify.shape[0]}')\n",
    "print(f'Number of columns: {df_verify.shape[1]}')\n",
    "df_verify.head() # head() displays the first 5 rows, head(10) displays the first 10 rows, etc."
   ]
  },
  {
   "cell_type": "markdown",
   "id": "c21acd45",
   "metadata": {},
   "source": [
    "Let's also print out the data types for the various features (columns)."
   ]
  },
  {
   "cell_type": "code",
   "execution_count": 7,
   "id": "f0c64845",
   "metadata": {},
   "outputs": [
    {
     "data": {
      "text/plain": [
       "ID             int64\n",
       "Name          object\n",
       "Sex           object\n",
       "Age          float64\n",
       "Height       float64\n",
       "Weight       float64\n",
       "BMI          float64\n",
       "Team          object\n",
       "NOC           object\n",
       "Region        object\n",
       "ISO3          object\n",
       "Country       object\n",
       "Latitude     float64\n",
       "Longitude    float64\n",
       "Games         object\n",
       "Year           int64\n",
       "Season        object\n",
       "City          object\n",
       "Sport         object\n",
       "Event         object\n",
       "Medal         object\n",
       "dtype: object"
      ]
     },
     "execution_count": 7,
     "metadata": {},
     "output_type": "execute_result"
    }
   ],
   "source": [
    "df_verify.dtypes"
   ]
  },
  {
   "cell_type": "markdown",
   "id": "59b13af7",
   "metadata": {},
   "source": [
    "---\n",
    "# Task 1: Preprocessing\n",
    "---\n",
    "\n",
    "Use the [Numpy Guide](https://numpy.org/learn) and [Pandas Guide](https://pandas.pydata.org/docs/user_guide/index.html) to consult the documentation and view code examples, if needed.\n",
    "\n",
    "## Task 1.1 Data Loading, Data Fusion, Data Cleaning, and Feature Engineering\n",
    "\n",
    "Your first task is to load and preprocess the four `.csv` files in the `data` folder.\n",
    "- `athlete_events.csv` contains data about the athletes and events they competed in.\n",
    "- `geo.csv` contains ISO3 country codes with latitudes and longitides.\n",
    "- `noc_iso3.csv` contains mappings between NOC and ISO3 country codes.\n",
    "- `noc_regions.csv` contains NOC country codes with regions.\n",
    "\n",
    "When you are done, you should end up with **one** Pandas `DataFrame` (`df`) identical to the Pandas `DataFrame` (`df_verify`) above.\n",
    "- It should contain:\n",
    "  - The exact same column names (including large/small letters), in the same left-to-right order, and with the same data types.\n",
    "  - The same number of rows.\n",
    "- Once you have created your own DataFrame `df`, you can verify it by comparing it to the `df_verify` DataFrame (see cell below).\n",
    "\n",
    "Things to consider:\n",
    "- Remove all duplicates.\n",
    "  - This can be done using `df.drop_duplicates()` which considers complete rows with identical values as duplicates.\n",
    "  - Or, if you only want to consider a subset of the columns for each row as duplicates, you can use `df.drop_duplicates(subset='col')` where `col` is the column name.\n",
    "  - To print out the number of duplicates, you can use `df.duplicated().sum()`, or `df['col'].duplicated().sum()` for a specific column.\n",
    "- The `geo.csv` dataset contains unwanted characters in multiple columns, including columns with the wrong data types, and duplicate values in the `ISO3` column.\n",
    "  - When removing duplicates from this dataset, consider using `drop_duplicates(subset='ISO3')`.\n",
    "- When merging `DataFrames`, make sure you end up with the same number of rows as in the `athlete_events.csv` file (but with duplicates removed).\n",
    "- You will also have to compute the BMI column and add it to the `DataFrame` (see equation above).\n",
    "- Rename columns to match the column names in the `df_verify` DataFrame.\n",
    "- Reorder columns to match the column order in the `df_verify` DataFrame."
   ]
  },
  {
   "cell_type": "code",
   "execution_count": 8,
   "id": "70fc4f8f",
   "metadata": {},
   "outputs": [
    {
     "name": "stdout",
     "output_type": "stream",
     "text": [
      "Dtypes match: True\n",
      "Shape matches: True\n",
      "DataFrames are equal: True\n"
     ]
    },
    {
     "data": {
      "text/html": [
       "<div>\n",
       "<style scoped>\n",
       "    .dataframe tbody tr th:only-of-type {\n",
       "        vertical-align: middle;\n",
       "    }\n",
       "\n",
       "    .dataframe tbody tr th {\n",
       "        vertical-align: top;\n",
       "    }\n",
       "\n",
       "    .dataframe thead th {\n",
       "        text-align: right;\n",
       "    }\n",
       "</style>\n",
       "<table border=\"1\" class=\"dataframe\">\n",
       "  <thead>\n",
       "    <tr style=\"text-align: right;\">\n",
       "      <th></th>\n",
       "      <th>ID</th>\n",
       "      <th>Name</th>\n",
       "      <th>Sex</th>\n",
       "      <th>Age</th>\n",
       "      <th>Height</th>\n",
       "      <th>Weight</th>\n",
       "      <th>BMI</th>\n",
       "      <th>Team</th>\n",
       "      <th>NOC</th>\n",
       "      <th>Region</th>\n",
       "      <th>...</th>\n",
       "      <th>Country</th>\n",
       "      <th>Latitude</th>\n",
       "      <th>Longitude</th>\n",
       "      <th>Games</th>\n",
       "      <th>Year</th>\n",
       "      <th>Season</th>\n",
       "      <th>City</th>\n",
       "      <th>Sport</th>\n",
       "      <th>Event</th>\n",
       "      <th>Medal</th>\n",
       "    </tr>\n",
       "  </thead>\n",
       "  <tbody>\n",
       "    <tr>\n",
       "      <th>0</th>\n",
       "      <td>1</td>\n",
       "      <td>A Dijiang</td>\n",
       "      <td>M</td>\n",
       "      <td>24.0</td>\n",
       "      <td>180.0</td>\n",
       "      <td>80.0</td>\n",
       "      <td>24.691358</td>\n",
       "      <td>China</td>\n",
       "      <td>CHN</td>\n",
       "      <td>China</td>\n",
       "      <td>...</td>\n",
       "      <td>China</td>\n",
       "      <td>35.0</td>\n",
       "      <td>105.00</td>\n",
       "      <td>1992 Summer</td>\n",
       "      <td>1992</td>\n",
       "      <td>Summer</td>\n",
       "      <td>Barcelona</td>\n",
       "      <td>Basketball</td>\n",
       "      <td>Basketball Men's Basketball</td>\n",
       "      <td>NaN</td>\n",
       "    </tr>\n",
       "    <tr>\n",
       "      <th>1</th>\n",
       "      <td>2</td>\n",
       "      <td>A Lamusi</td>\n",
       "      <td>M</td>\n",
       "      <td>23.0</td>\n",
       "      <td>170.0</td>\n",
       "      <td>60.0</td>\n",
       "      <td>20.761246</td>\n",
       "      <td>China</td>\n",
       "      <td>CHN</td>\n",
       "      <td>China</td>\n",
       "      <td>...</td>\n",
       "      <td>China</td>\n",
       "      <td>35.0</td>\n",
       "      <td>105.00</td>\n",
       "      <td>2012 Summer</td>\n",
       "      <td>2012</td>\n",
       "      <td>Summer</td>\n",
       "      <td>London</td>\n",
       "      <td>Judo</td>\n",
       "      <td>Judo Men's Extra-Lightweight</td>\n",
       "      <td>NaN</td>\n",
       "    </tr>\n",
       "    <tr>\n",
       "      <th>2</th>\n",
       "      <td>3</td>\n",
       "      <td>Gunnar Nielsen Aaby</td>\n",
       "      <td>M</td>\n",
       "      <td>24.0</td>\n",
       "      <td>NaN</td>\n",
       "      <td>NaN</td>\n",
       "      <td>NaN</td>\n",
       "      <td>Denmark</td>\n",
       "      <td>DEN</td>\n",
       "      <td>Denmark</td>\n",
       "      <td>...</td>\n",
       "      <td>Denmark</td>\n",
       "      <td>56.0</td>\n",
       "      <td>10.00</td>\n",
       "      <td>1920 Summer</td>\n",
       "      <td>1920</td>\n",
       "      <td>Summer</td>\n",
       "      <td>Antwerpen</td>\n",
       "      <td>Football</td>\n",
       "      <td>Football Men's Football</td>\n",
       "      <td>NaN</td>\n",
       "    </tr>\n",
       "    <tr>\n",
       "      <th>3</th>\n",
       "      <td>4</td>\n",
       "      <td>Edgar Lindenau Aabye</td>\n",
       "      <td>M</td>\n",
       "      <td>34.0</td>\n",
       "      <td>NaN</td>\n",
       "      <td>NaN</td>\n",
       "      <td>NaN</td>\n",
       "      <td>Denmark/Sweden</td>\n",
       "      <td>DEN</td>\n",
       "      <td>Denmark</td>\n",
       "      <td>...</td>\n",
       "      <td>Denmark</td>\n",
       "      <td>56.0</td>\n",
       "      <td>10.00</td>\n",
       "      <td>1900 Summer</td>\n",
       "      <td>1900</td>\n",
       "      <td>Summer</td>\n",
       "      <td>Paris</td>\n",
       "      <td>Tug-Of-War</td>\n",
       "      <td>Tug-Of-War Men's Tug-Of-War</td>\n",
       "      <td>Gold</td>\n",
       "    </tr>\n",
       "    <tr>\n",
       "      <th>4</th>\n",
       "      <td>5</td>\n",
       "      <td>Christine Jacoba Aaftink</td>\n",
       "      <td>F</td>\n",
       "      <td>21.0</td>\n",
       "      <td>185.0</td>\n",
       "      <td>82.0</td>\n",
       "      <td>23.959094</td>\n",
       "      <td>Netherlands</td>\n",
       "      <td>NED</td>\n",
       "      <td>Netherlands</td>\n",
       "      <td>...</td>\n",
       "      <td>Netherlands</td>\n",
       "      <td>52.5</td>\n",
       "      <td>5.75</td>\n",
       "      <td>1988 Winter</td>\n",
       "      <td>1988</td>\n",
       "      <td>Winter</td>\n",
       "      <td>Calgary</td>\n",
       "      <td>Speed Skating</td>\n",
       "      <td>Speed Skating Women's 500 metres</td>\n",
       "      <td>NaN</td>\n",
       "    </tr>\n",
       "  </tbody>\n",
       "</table>\n",
       "<p>5 rows × 21 columns</p>\n",
       "</div>"
      ],
      "text/plain": [
       "   ID                      Name Sex   Age  Height  Weight        BMI  \\\n",
       "0   1                 A Dijiang   M  24.0   180.0    80.0  24.691358   \n",
       "1   2                  A Lamusi   M  23.0   170.0    60.0  20.761246   \n",
       "2   3       Gunnar Nielsen Aaby   M  24.0     NaN     NaN        NaN   \n",
       "3   4      Edgar Lindenau Aabye   M  34.0     NaN     NaN        NaN   \n",
       "4   5  Christine Jacoba Aaftink   F  21.0   185.0    82.0  23.959094   \n",
       "\n",
       "             Team  NOC       Region  ...      Country Latitude  Longitude  \\\n",
       "0           China  CHN        China  ...        China     35.0     105.00   \n",
       "1           China  CHN        China  ...        China     35.0     105.00   \n",
       "2         Denmark  DEN      Denmark  ...      Denmark     56.0      10.00   \n",
       "3  Denmark/Sweden  DEN      Denmark  ...      Denmark     56.0      10.00   \n",
       "4     Netherlands  NED  Netherlands  ...  Netherlands     52.5       5.75   \n",
       "\n",
       "         Games  Year  Season       City          Sport  \\\n",
       "0  1992 Summer  1992  Summer  Barcelona     Basketball   \n",
       "1  2012 Summer  2012  Summer     London           Judo   \n",
       "2  1920 Summer  1920  Summer  Antwerpen       Football   \n",
       "3  1900 Summer  1900  Summer      Paris     Tug-Of-War   \n",
       "4  1988 Winter  1988  Winter    Calgary  Speed Skating   \n",
       "\n",
       "                              Event Medal  \n",
       "0       Basketball Men's Basketball   NaN  \n",
       "1      Judo Men's Extra-Lightweight   NaN  \n",
       "2           Football Men's Football   NaN  \n",
       "3       Tug-Of-War Men's Tug-Of-War  Gold  \n",
       "4  Speed Skating Women's 500 metres   NaN  \n",
       "\n",
       "[5 rows x 21 columns]"
      ]
     },
     "execution_count": 8,
     "metadata": {},
     "output_type": "execute_result"
    }
   ],
   "source": [
    "import pandas as pd\n",
    "import numpy as np\n",
    "\n",
    "# Load the CSV files\n",
    "athlete_events = pd.read_csv('data/athlete_events.csv')\n",
    "geo = pd.read_csv('data/geo.csv')\n",
    "noc_iso3 = pd.read_csv('data/noc_iso3.csv')\n",
    "noc_regions = pd.read_csv('data/noc_regions.csv')\n",
    "\n",
    "# Clean geo.csv\n",
    "for col in geo.select_dtypes(include=['object']).columns:\n",
    "    geo[col] = geo[col].str.strip().str.replace('\"', '', regex=False)\n",
    "\n",
    "geo = geo.rename(columns={\n",
    "    'Alpha-3 code': 'ISO3',\n",
    "    'Latitude (average)': 'Latitude',\n",
    "    'Longitude (average)': 'Longitude'\n",
    "})\n",
    "\n",
    "# Convert only Latitude and Longitude columns to float64\n",
    "geo['Latitude'] = pd.to_numeric(geo['Latitude'], errors='coerce')\n",
    "geo['Longitude'] = pd.to_numeric(geo['Longitude'], errors='coerce')\n",
    "\n",
    "# Drop duplicates on the merge key 'ISO3'\n",
    "geo = geo[['ISO3', 'Country', 'Latitude', 'Longitude']].drop_duplicates(subset='ISO3')\n",
    "\n",
    "# Clean other DataFrames\n",
    "athlete_events = athlete_events.drop_duplicates()\n",
    "\n",
    "# Convert athlete_events data types\n",
    "athlete_events['Age'] = pd.to_numeric(athlete_events['Age'], errors='coerce')\n",
    "athlete_events['Height'] = pd.to_numeric(athlete_events['Height'], errors='coerce')\n",
    "athlete_events['Weight'] = pd.to_numeric(athlete_events['Weight'], errors='coerce')\n",
    "\n",
    "# Drop duplicates on the merge key 'NOC'\n",
    "noc_iso3 = noc_iso3.drop_duplicates(subset='NOC')\n",
    "# Drop duplicates on the merge key 'NOC'\n",
    "noc_regions = noc_regions[['NOC', 'region']].drop_duplicates(subset='NOC')  # exclude 'notes' column\n",
    "\n",
    "# Merge DataFrames\n",
    "df = athlete_events.merge(noc_regions.rename(columns={'region': 'Region'}), on='NOC', how='left')\n",
    "df = df.merge(noc_iso3, on='NOC', how='left')\n",
    "df = df.merge(geo, on='ISO3', how='left')\n",
    "\n",
    "# Compute BMI\n",
    "df['BMI'] = df['Weight'] / ((df['Height'] / 100) ** 2)\n",
    "\n",
    "# Convert BMI to float64\n",
    "df['BMI'] = df['BMI'].astype('float64')\n",
    "\n",
    "# Ensure proper data types for all columns\n",
    "df['ID'] = df['ID'].astype('int64')\n",
    "df['Year'] = df['Year'].astype('int64')\n",
    "df['Age'] = df['Age'].astype('float64')\n",
    "df['Height'] = df['Height'].astype('float64')\n",
    "df['Weight'] = df['Weight'].astype('float64')\n",
    "df['Latitude'] = df['Latitude'].astype('float64')\n",
    "df['Longitude'] = df['Longitude'].astype('float64')\n",
    "\n",
    "# Convert object columns (strings)\n",
    "object_columns = ['Name', 'Sex', 'Team', 'NOC', 'Region', 'ISO3', 'Country', \n",
    "                  'Games', 'Season', 'City', 'Sport', 'Event', 'Medal']\n",
    "for col in object_columns:\n",
    "    if col in df.columns:\n",
    "        df[col] = df[col].astype('object')\n",
    "\n",
    "# Reorder columns\n",
    "column_order = [\n",
    "    'ID', 'Name', 'Sex', 'Age', 'Height', 'Weight', 'BMI',\n",
    "    'Team', 'NOC', 'Region', 'ISO3', 'Country',\n",
    "    'Latitude', 'Longitude', 'Games', 'Year', 'Season',\n",
    "    'City', 'Sport', 'Event', 'Medal'\n",
    "]\n",
    "df = df[column_order]\n",
    "\n",
    "# The verification will now be True\n",
    "df_verify = pd.read_pickle('data/verify.pkl')\n",
    "\n",
    "# CORRECTED: Compare dtypes properly\n",
    "print(\"Dtypes match:\", (df.dtypes == df_verify.dtypes).all())\n",
    "print(\"Shape matches:\", df.shape == df_verify.shape)\n",
    "print(\"DataFrames are equal:\", df.equals(df_verify))\n",
    "\n",
    "df.head()"
   ]
  },
  {
   "cell_type": "code",
   "execution_count": 27,
   "id": "8cbba9c1",
   "metadata": {},
   "outputs": [
    {
     "data": {
      "text/plain": [
       "True"
      ]
     },
     "execution_count": 27,
     "metadata": {},
     "output_type": "execute_result"
    }
   ],
   "source": [
    "# Verify your 'df' DataFrame  is identical to the 'df_verify' DataFrame.\n",
    "# The output from this cell should be 'True' if the two DataFrames are identical.\n",
    "(df.dtypes == df_verify.dtypes).all() and df.shape == df_verify.shape and df.equals(df_verify)"
   ]
  },
  {
   "cell_type": "markdown",
   "id": "392005d1",
   "metadata": {},
   "source": [
    "---\n",
    "## Task 1.2 Feature Measurement Scales\n",
    "\n",
    "Characterize each feature (column) using [Stevens’ four levels of measurement](https://en.wikipedia.org/wiki/Level_of_measurement) below:\n",
    "- Nominal\n",
    "- Ordinal\n",
    "- Interval\n",
    "- Ratio"
   ]
  },
  {
   "cell_type": "code",
   "execution_count": 49,
   "id": "aa145376",
   "metadata": {},
   "outputs": [],
   "source": [
    "# TODO: Write your answer here.\n",
    "\n",
    "# ------------------------------------------------------------------------------------------------------------------\n",
    "# Feature   | Measurement Scale (mark 1 with an 'x') | Rationale \n",
    "# (Column)  | Nominal : Ordinal : Interval : Ratio   | (Why did you choose that measurement scale for that feature?)\n",
    "# ------------------------------------------------------------------------------------------------------------------\n",
    "# ID        |    X    :         :          :         | Kategori utan någon inbördes ordning\n",
    "# Name      |    X    :         :          :         | Kategori utan någon inbördes ordning\n",
    "# Sex       |    X    :         :          :         | Kategori utan någon inbördes ordning\n",
    "# Age       |         :    X    :          :         | Kategori med rank ordning\n",
    "# Height    |         :         :          :    X    | Egenskaper med en intervallskala med en absolut nollpunkt \n",
    "# Weight    |         :         :          :    X    | Egenskaper med en intervallskala med en absolut nollpunkt \n",
    "# BMI       |         :         :          :    X    | Egenskaper med en intervallskala med en absolut nollpunkt \n",
    "# Team      |    X    :         :          :         | Kategori utan någon inbördes ordning\n",
    "# NOC       |    X    :         :          :         | Kategori utan någon inbördes ordning\n",
    "# Region    |    X    :         :          :         | Kategori utan någon inbördes ordning\n",
    "# ISO3      |    X    :         :          :         | Kategori utan någon inbördes ordning\n",
    "# Country   |    X    :         :          :         | Kategori utan någon inbördes ordning\n",
    "# Latitude  |         :         :     X    :         | Skala med ingen absolut nollpunkt\n",
    "# Longitude |         :         :     X    :         | Skala med ingen absolut nollpunkt\n",
    "# Games     |    X    :         :          :         | Kategori utan någon inbördes ordning\n",
    "# Year      |         :         :     X    :         | Skala med ingen absolut nollpunkt\n",
    "# Season    |    X    :         :          :         | Kategori utan någon inbördes ordning\n",
    "# City      |    X    :         :          :         | Kategori utan någon inbördes ordning\n",
    "# Sport     |    X    :         :          :         | Kategori utan någon inbördes ordning\n",
    "# Event     |    X    :         :          :         | Kategori utan någon inbördes ordning\n",
    "# Medal     |         :    X    :          :         | Kategori med rank ordning"
   ]
  },
  {
   "cell_type": "markdown",
   "id": "755b3e89",
   "metadata": {},
   "source": [
    "---\n",
    "# Task 2: Summary Statistics\n",
    "---"
   ]
  },
  {
   "cell_type": "markdown",
   "id": "55ed65ae",
   "metadata": {},
   "source": [
    "Use the [Numpy Guide](https://numpy.org/learn) and [Pandas Guide](https://pandas.pydata.org/docs/user_guide/index.html) to consult the documentation and view code examples, if needed.\n",
    "\n",
    "## Task 2.1 Missing Values\n",
    "\n",
    "How many missing values are there per column?\n",
    "\n",
    "<details>\n",
    "<summary>Compare (verify) your solution to the correct answer (click to expand)</summary>\n",
    "\n",
    "> ```python\n",
    "> ID                0\n",
    "> Name              0\n",
    "> Sex               0\n",
    "> Age            9315\n",
    "> Height        58814\n",
    "> Weight        61527\n",
    "> BMI           62891\n",
    "> Team              0\n",
    "> NOC               0\n",
    "> Region          370\n",
    "> ISO3              0\n",
    "> Country          96\n",
    "> Latitude         96\n",
    "> Longitude        96\n",
    "> Games             0\n",
    "> Year              0\n",
    "> Season            0\n",
    "> City              0\n",
    "> Sport             0\n",
    "> Event             0\n",
    "> Medal        229959\n",
    "> ```\n",
    "\n",
    "</details>"
   ]
  },
  {
   "cell_type": "code",
   "execution_count": 19,
   "id": "72e98b39",
   "metadata": {},
   "outputs": [
    {
     "name": "stdout",
     "output_type": "stream",
     "text": [
      "Number of missing values per column:\n",
      "ID                0\n",
      "Name              0\n",
      "Sex               0\n",
      "Age            9315\n",
      "Height        58814\n",
      "Weight        61527\n",
      "BMI           62891\n",
      "Team              0\n",
      "NOC               0\n",
      "Region          370\n",
      "ISO3              0\n",
      "Country          96\n",
      "Latitude         96\n",
      "Longitude        96\n",
      "Games             0\n",
      "Year              0\n",
      "Season            0\n",
      "City              0\n",
      "Sport             0\n",
      "Event             0\n",
      "Medal        229959\n",
      "dtype: int64\n",
      "\n",
      "Missing values summary:\n",
      "   Column  Missing_Count  Missing_Percentage\n",
      "       ID              0                0.00\n",
      "     Name              0                0.00\n",
      "      Sex              0                0.00\n",
      "      Age           9315                3.45\n",
      "   Height          58814               21.80\n",
      "   Weight          61527               22.81\n",
      "      BMI          62891               23.32\n",
      "     Team              0                0.00\n",
      "      NOC              0                0.00\n",
      "   Region            370                0.14\n",
      "     ISO3              0                0.00\n",
      "  Country             96                0.04\n",
      " Latitude             96                0.04\n",
      "Longitude             96                0.04\n",
      "    Games              0                0.00\n",
      "     Year              0                0.00\n",
      "   Season              0                0.00\n",
      "     City              0                0.00\n",
      "    Sport              0                0.00\n",
      "    Event              0                0.00\n",
      "    Medal         229959               85.25\n"
     ]
    }
   ],
   "source": [
    "# TODO: Write your code here to tabulate the number of missing values per column.\n",
    "import pandas as pd\n",
    "\n",
    "# Count missing values per column\n",
    "missing_values = df.isnull().sum()\n",
    "\n",
    "# Display the results\n",
    "print(\"Number of missing values per column:\")\n",
    "print(missing_values)\n",
    "\n",
    "# Optional: Display as a formatted table\n",
    "print(\"\\nMissing values summary:\")\n",
    "print(pd.DataFrame({\n",
    "    'Column': missing_values.index,\n",
    "    'Missing_Count': missing_values.values,\n",
    "    'Missing_Percentage': (missing_values.values / len(df) * 100).round(2)\n",
    "}).to_string(index=False))"
   ]
  },
  {
   "cell_type": "markdown",
   "id": "90c6e83f",
   "metadata": {},
   "source": [
    "Given your result from above, would it be possible to impute (replace) the missing values for the affected features (columns)?\n",
    "- Don't drop any rows or columns with missing values, or impute (replace) any missing values.\n",
    "- You only have to answer the question stated above."
   ]
  },
  {
   "cell_type": "code",
   "execution_count": 51,
   "id": "db4b7977",
   "metadata": {},
   "outputs": [],
   "source": [
    "# TODO: Write your answer here.\n",
    "\n",
    "#Ja"
   ]
  },
  {
   "cell_type": "markdown",
   "id": "8e36a3de",
   "metadata": {},
   "source": [
    "---\n",
    "## Task 2.2 Unique Values\n",
    "\n",
    "How many unique values does the `Region` feature (column) contain?\n",
    "\n",
    "<details>\n",
    "<summary>Compare (verify) your solution to the correct answer (click to expand)</summary>\n",
    "\n",
    "> ```python\n",
    "> 206\n",
    "> ```\n",
    "\n",
    "</details>"
   ]
  },
  {
   "cell_type": "code",
   "execution_count": null,
   "id": "a4a3bc0f",
   "metadata": {},
   "outputs": [
    {
     "name": "stdout",
     "output_type": "stream",
     "text": [
      "Number of unique values in the 'Region' column: 206\n"
     ]
    }
   ],
   "source": [
    "# TODO: Write your code here to print out the number of unique values in the `Region` feature (column).\n",
    "\n",
    "unique_regions_count = df['Region'].nunique(dropna=False)\n",
    "print(f\"Number of unique values in the 'Region' column: {unique_regions_count}\")"
   ]
  },
  {
   "cell_type": "markdown",
   "id": "2f4711df",
   "metadata": {},
   "source": [
    "---\n",
    "## Task 2.3 Value Counts\n",
    "\n",
    "How many instances of each value are there in the `Medal` feature (column)?\n",
    "\n",
    "<details>\n",
    "<summary>Compare (verify) your solution to the correct answer (click to expand)</summary>\n",
    "\n",
    "> ```python\n",
    "> Gold      13369\n",
    "> Bronze    13295\n",
    "> Silver    13108\n",
    "> ```\n",
    "\n",
    "</details>"
   ]
  },
  {
   "cell_type": "code",
   "execution_count": null,
   "id": "8a5057b0",
   "metadata": {},
   "outputs": [
    {
     "name": "stdout",
     "output_type": "stream",
     "text": [
      "\n",
      "Gold medals: 13369\n",
      "Bronze medals: 13295\n",
      "Silver medals: 13108\n"
     ]
    }
   ],
   "source": [
    "# TODO: Write your code here to count the number of Gold, Silver, and Bronze medals.\n",
    "\n",
    "gold_count = df['Medal'].value_counts().get('Gold', 0)\n",
    "bronze_count = df['Medal'].value_counts().get('Bronze', 0)\n",
    "silver_count = df['Medal'].value_counts().get('Silver', 0)\n",
    "\n",
    "\n",
    "print(f\"\\nGold medals: {gold_count}\")\n",
    "print(f\"Bronze medals: {bronze_count}\")\n",
    "print(f\"Silver medals: {silver_count}\")"
   ]
  },
  {
   "cell_type": "markdown",
   "id": "3081c275",
   "metadata": {},
   "source": [
    "---\n",
    "## Task 2.4 Central Tendency and Spread\n",
    "\n",
    "How are the values in the numeric features (columns) distributed?\n",
    "- The numeric features (columns) are `ID`, `Age`, `Height`, `Weight`, `BMI`, `Latitude`, `Longitude`, and `Year`.\n",
    "\n",
    "<details>\n",
    "<summary>Compare (verify) your solution to the correct answer (click to expand)</summary>\n",
    "\n",
    "> ```python\n",
    ">                  ID             Age          Height          Weight             BMI        Latitude       Longitude            Year\n",
    "> count 269731.000000   260416.000000   210917.000000   208204.000000   206840.000000   269635.000000   269635.000000   269731.000000\n",
    "> mean   68264.949591       25.454776      175.338953       70.701778       22.784470       38.357629       14.336823     1978.623073\n",
    "> std    39026.253843        6.163869       10.518507       14.349027        2.912083       23.797926       64.719581       29.752055\n",
    "> min        1.000000       10.000000      127.000000       25.000000        8.360954      -41.000000     -176.200000     1896.000000\n",
    "> 25%    34655.500000       21.000000      168.000000       60.000000       20.957171       36.000000       -2.000000     1960.000000\n",
    "> 50%    68233.000000       24.000000      175.000000       70.000000       22.530864       46.000000       12.833300     1988.000000\n",
    "> 75%   102111.000000       28.000000      183.000000       79.000000       24.212293       52.500000       26.000000     2002.000000\n",
    "> max   135571.000000       97.000000      226.000000      214.000000       63.901580       65.000000      178.000000     2016.000000\n",
    "> ```\n",
    "\n",
    "</details>"
   ]
  },
  {
   "cell_type": "code",
   "execution_count": 54,
   "id": "6183be23",
   "metadata": {},
   "outputs": [
    {
     "name": "stdout",
     "output_type": "stream",
     "text": [
      "                  ID            Age         Height         Weight  \\\n",
      "count  271116.000000  261642.000000  210945.000000  208241.000000   \n",
      "mean    68248.954396      25.556898     175.338970      70.702393   \n",
      "std     39022.286345       6.393561      10.518462      14.348020   \n",
      "min         1.000000      10.000000     127.000000      25.000000   \n",
      "25%     34643.000000      21.000000     168.000000      60.000000   \n",
      "50%     68205.000000      24.000000     175.000000      70.000000   \n",
      "75%    102097.250000      28.000000     183.000000      79.000000   \n",
      "max    135571.000000      97.000000     226.000000     214.000000   \n",
      "\n",
      "                Year            BMI  \n",
      "count  271116.000000  206853.000000  \n",
      "mean     1978.378480      22.784520  \n",
      "std        29.877632       2.912067  \n",
      "min      1896.000000       8.360954  \n",
      "25%      1960.000000      20.957171  \n",
      "50%      1988.000000      22.530864  \n",
      "75%      2002.000000      24.212293  \n",
      "max      2016.000000      63.901580  \n"
     ]
    }
   ],
   "source": [
    "# TODO: Write your code here shows the count, mean, std, min, max, 25th percentile, 50th percentile, and 75th percentile for the numeric columns.\n",
    "import pandas as pd\n",
    "\n",
    "# Läs in CSV-filerna\n",
    "df = pd.read_csv(\"data/athlete_events.csv\")\n",
    "df1 = pd.read_csv(\"data/geo.csv\")\n",
    "\n",
    "# Merge (du kan behöva justera vilken nyckel som stämmer bäst)\n",
    "df_verify = pd.merge(df, df1, left_on=\"Name\", right_on=\"Country\", how=\"outer\")\n",
    "\n",
    "df_verify['BMI'] = (df_verify['Weight']) / ((df_verify['Height'] / 100) ** 2)\n",
    "print(df_verify.describe())"
   ]
  },
  {
   "cell_type": "markdown",
   "id": "b123a45a",
   "metadata": {},
   "source": [
    "---\n",
    "## Task 2.5 Outliers\n",
    "\n",
    "How many outliers are there in the `Age` feature (column)?\n",
    "- Numerous methods exist to detect [Outliers](https://en.wikipedia.org/wiki/Outlier) mathematically.\n",
    "- One such method uses the [1.5 x IQR Rule](https://www.khanacademy.org/math/statistics-probability/summarizing-quantitative-data/box-whisker-plots/a/identifying-outliers-iqr-rule), where **IQR** is the **Inter Quartile Range**.\n",
    "  - The first Quartile (`Q1`) is the same as the `25th Percentile`.\n",
    "  - The second Quartile (`Q2`) is the same as the `50th Percentile`.\n",
    "  - The third Quartile (`Q3`) is the same as the `75th Percentile`.\n",
    "  - The fourth Quartile (`Q4`) is the same as the `100th Percentile`.\n",
    "  - The Inter Quartile Range (`IQR`) is defined as: `IQR = Q3 - Q1`.\n",
    "  - The `1.5 x IQR Rule` states that:\n",
    "    - Any data point that lies below `Q1 - 1.5 * IQR` is considered an outlier.\n",
    "    - Any data point that lies above `Q3 + 1.5 * IQR` is considered an outlier.\n",
    "\n",
    "Pandas `Series` have a method `quantile()` to calculate Quantiles.\n",
    "- `Q1 = quantile(0.25)`\n",
    "- `Q3 = quantile(0.75)`\n",
    "\n",
    "Note on **Quantiles** vs **Quartiles** vs **Percentiles**\n",
    "- A **Quantile** is a general partition (subdivision) of values, e.g. a 0.05, 0.10, 0.25, or 0.76 fraction of the values.\n",
    "- A **Quartile** is also a type of **Quantile**, but **Quartiles** partition values into four disjoint subsets 1st, 2nd, 3rd and 4th quarter of the values.\n",
    "- A **Percentile** is also a type of **Quantile**, but **Percentiles** partition values between 0% to 100% of the values.\n",
    "\n",
    "<details>\n",
    "<summary>Compare (verify) your solution to the correct answer (click to expand)</summary>\n",
    "\n",
    "> ```python\n",
    "> 9421\n",
    "> ```\n",
    "\n",
    "</details>"
   ]
  },
  {
   "cell_type": "code",
   "execution_count": 50,
   "id": "a1d176cd",
   "metadata": {},
   "outputs": [
    {
     "name": "stdout",
     "output_type": "stream",
     "text": [
      "Number of outliers in Age column: 9421\n"
     ]
    }
   ],
   "source": [
    "# TODO: Write your code here to calculate and print out the number of outliers in the `Age` feature (column).\n",
    "\n",
    "# TODO: Write your code here to calculate and print out the number of outliers in the `Age` feature (column).\n",
    "\n",
    "# Calculate Q1, Q3, and IQR\n",
    "Q1 = df['Age'].quantile(0.25)\n",
    "Q3 = df['Age'].quantile(0.75)\n",
    "IQR = Q3 - Q1\n",
    "\n",
    "# Define outlier boundaries\n",
    "lower_bound = Q1 - 1.5 * IQR\n",
    "upper_bound = Q3 + 1.5 * IQR\n",
    "\n",
    "# Count outliers\n",
    "outliers = df[(df['Age'] < lower_bound) | (df['Age'] > upper_bound)]\n",
    "num_outliers = len(outliers)\n",
    "\n",
    "# print(f\"Q1 (25th percentile): {Q1:.2f}\")\n",
    "# print(f\"Q3 (75th percentile): {Q3:.2f}\")\n",
    "# print(f\"IQR: {IQR:.2f}\")\n",
    "# print(f\"Lower bound (Q1 - 1.5*IQR): {lower_bound:.2f}\")\n",
    "# print(f\"Upper bound (Q3 + 1.5*IQR): {upper_bound:.2f}\")\n",
    "print(f\"Number of outliers in Age column: {num_outliers}\")\n",
    "# print(f\"Percentage of outliers: {(num_outliers / len(df) * 100):.2f}%\")"
   ]
  },
  {
   "cell_type": "markdown",
   "id": "f1be3c46",
   "metadata": {},
   "source": [
    "---\n",
    "# Task 3: Distribution Visualizations\n",
    "---"
   ]
  },
  {
   "cell_type": "markdown",
   "id": "10698c75",
   "metadata": {},
   "source": [
    "Use the [Matplotlib Gallery](https://matplotlib.org/stable/gallery/index.html) and [Seaborn Gallery](https://seaborn.pydata.org/examples/index.html) to consult the documentation and view code examples, if needed.\n",
    "- You can use either Matplotlib or Seaborn (or both) to create your plots.\n",
    "- When creating your plots, consider the **Semiology of graphical symbols**, i.e. the eight ways for graphical objects to encode information:\n",
    "  - Position\n",
    "  - Shape\n",
    "  - Size\n",
    "  - Brightness\n",
    "  - Color\n",
    "  - Orientation\n",
    "  - Texture\n",
    "  - Motion\n",
    "- Also consider the **expressiveness** and **effectiveness** of your visualizations, i.e.:\n",
    "  - Make sure you are expressing (mapping) the underlying data with your visual elements appropriately.\n",
    "  - Make sure you are not including too much information in your visualizations to make them more intuitive and more comprehensible to the user.\n",
    "- Reflect, mentally, on your visualizations.\n",
    "  - Are you using an appropriate plot?\n",
    "    - This might also include subplots.\n",
    "  - Are you using position, shape, size, color, etc. (semiology) appropriately?\n",
    "    - Are you using an appropriate color scale (color map)?\n",
    "    - Have you considered appropriate colors for color blindness?\n",
    "  - Is all the necessary (but not too much) information included in the visualization?\n",
    "    - This might also include figure titles, axis labels, legends, colorbars, etc.\n",
    "  - Is your mapping from data to visual elements appropriate?\n",
    "    - Does your visualization give a correct, or false, representation of the underlying data?\n",
    "  - When you look at your visualizations, how intuitive and comprehensible are they?\n",
    "    - Will a user quickly understand what the visualization is about?\n",
    "    - Will a user quickly discover important patterns?\n",
    "    - Will the user be able to quickly analyze the information?\n",
    "- Use *data mangling* to put the data into an appropriate format before creating a visualization.\n",
    "  - You can use a DataFrame's `groupby()` method (with or without aggrations), slicing, etc. before creating a visualization (it depends on what you are visualizing).\n",
    "\n",
    "**Recommended reading (not mandatory)**\n",
    "\n",
    "Franconeri, Padilla, Shah, Zacks & Hullman. (2021). The Science of Visual Data Communication: What Works, Psychological Science in the Public Interest, 22(3), 110-161. DOI: 10.1177/15291006211051956.\n",
    "[https://journals.sagepub.com/doi/10.1177/15291006211051956](https://journals.sagepub.com/doi/10.1177/15291006211051956)"
   ]
  },
  {
   "cell_type": "markdown",
   "id": "46b26c04",
   "metadata": {},
   "source": [
    "---\n",
    "## Task 3.1 Visualize the Distribution of Male and Female Athletes\n",
    "\n",
    "Create a visualization showing the number of Male and Female athletes.\n",
    "\n",
    "<details>\n",
    "<summary>View a similar (not necessarily identical) visualization so you know what you are aiming for (click to expand)</summary>\n",
    "\n",
    "> <img src=\"figures/task_3_1.png\" width=600></img>\n",
    "\n",
    "</details>"
   ]
  },
  {
   "cell_type": "code",
   "execution_count": 10,
   "id": "b8fd641f",
   "metadata": {},
   "outputs": [
    {
     "ename": "NameError",
     "evalue": "name 'df' is not defined",
     "output_type": "error",
     "traceback": [
      "\u001b[31m---------------------------------------------------------------------------\u001b[39m",
      "\u001b[31mNameError\u001b[39m                                 Traceback (most recent call last)",
      "\u001b[36mCell\u001b[39m\u001b[36m \u001b[39m\u001b[32mIn[10]\u001b[39m\u001b[32m, line 8\u001b[39m\n\u001b[32m      6\u001b[39m \u001b[38;5;66;03m# Create the count plot\u001b[39;00m\n\u001b[32m      7\u001b[39m plt.figure(figsize=(\u001b[32m8\u001b[39m, \u001b[32m6\u001b[39m))\n\u001b[32m----> \u001b[39m\u001b[32m8\u001b[39m ax = sns.countplot(data=\u001b[43mdf\u001b[49m, x=\u001b[33m'\u001b[39m\u001b[33mSex\u001b[39m\u001b[33m'\u001b[39m, palette={\u001b[33m'\u001b[39m\u001b[33mM\u001b[39m\u001b[33m'\u001b[39m: \u001b[33m'\u001b[39m\u001b[33mlightgreen\u001b[39m\u001b[33m'\u001b[39m, \u001b[33m'\u001b[39m\u001b[33mF\u001b[39m\u001b[33m'\u001b[39m: \u001b[33m'\u001b[39m\u001b[33mtomato\u001b[39m\u001b[33m'\u001b[39m})\n\u001b[32m      9\u001b[39m plt.title(\u001b[33m'\u001b[39m\u001b[33mNumber of Male and Female Athletes\u001b[39m\u001b[33m'\u001b[39m)\n\u001b[32m     10\u001b[39m plt.xlabel(\u001b[33m'\u001b[39m\u001b[33mSex\u001b[39m\u001b[33m'\u001b[39m)\n",
      "\u001b[31mNameError\u001b[39m: name 'df' is not defined"
     ]
    },
    {
     "data": {
      "text/plain": [
       "<Figure size 800x600 with 0 Axes>"
      ]
     },
     "metadata": {},
     "output_type": "display_data"
    }
   ],
   "source": [
    "# TODO: Write your code here to visualize the distribution of Male and Female athletes.\n",
    "\n",
    "import matplotlib.pyplot as plt\n",
    "import seaborn as sns\n",
    "\n",
    "# Create the count plot\n",
    "plt.figure(figsize=(8, 6))\n",
    "ax = sns.countplot(data=df, x='Sex', palette={'M': 'lightgreen', 'F': 'tomato'})\n",
    "plt.title('Number of Male and Female Athletes')\n",
    "plt.xlabel('Sex')\n",
    "plt.ylabel('Count')\n",
    "\n",
    "# Add value labels on top of bars\n",
    "for container in ax.containers:\n",
    "    ax.bar_label(container, fmt='%d', label_type='edge')\n",
    "\n",
    "plt.show()\n"
   ]
  },
  {
   "cell_type": "markdown",
   "id": "f3f6b06c",
   "metadata": {},
   "source": [
    "---\n",
    "## Task 3.2 Visualize the Distribution of Athletes' Age\n",
    "\n",
    "Create a visualization showing the athlete Age distribution (counts, frequencies).\n",
    "\n",
    "<details>\n",
    "<summary>View a similar (not necessarily identical) visualization so you know what you are aiming for (click to expand)</summary>\n",
    "\n",
    "> <img src=\"figures/task_3_2.png\" width=1200></img>\n",
    "\n",
    "</details>"
   ]
  },
  {
   "cell_type": "code",
   "execution_count": null,
   "id": "da5917f9",
   "metadata": {},
   "outputs": [
    {
     "data": {
      "image/png": "[encoded data removed]",
      "text/plain": [
       "<Figure size 1000x600 with 1 Axes>"
      ]
     },
     "metadata": {},
     "output_type": "display_data"
    }
   ],
   "source": [
    "# TODO: Write your code here to visualize the distribution of athlete Age.\n",
    "\n"
   ]
  },
  {
   "cell_type": "markdown",
   "id": "f8582034",
   "metadata": {},
   "source": [
    "---\n",
    "## Task 3.3 Visualize the Distribution of Athletes' Height\n",
    "\n",
    "Create a visualization showing the athlete Height distribution (counts, frequencies).\n",
    "\n",
    "<details>\n",
    "<summary>View a similar (not necessarily identical) visualization so you know what you are aiming for (click to expand)</summary>\n",
    "\n",
    "> <img src=\"figures/task_3_3.png\" width=1200></img>\n",
    "\n",
    "</details>"
   ]
  },
  {
   "cell_type": "code",
   "execution_count": 58,
   "id": "3fa27e02",
   "metadata": {},
   "outputs": [],
   "source": [
    "# TODO: Write your code here to visualize the distribution of athlete Height."
   ]
  },
  {
   "cell_type": "markdown",
   "id": "7b0a17e1",
   "metadata": {},
   "source": [
    "---\n",
    "## Task 3.4 Visualize the Distribution of Athletes' Weight\n",
    "\n",
    "Create a visualization showing the athlete Weight distribution (counts, frequencies).\n",
    "\n",
    "<details>\n",
    "<summary>View a similar (not necessarily identical) visualization so you know what you are aiming for (click to expand)</summary>\n",
    "\n",
    "> <img src=\"figures/task_3_4.png\" width=1200></img>\n",
    "\n",
    "</details>"
   ]
  },
  {
   "cell_type": "code",
   "execution_count": 59,
   "id": "ce33c5e2",
   "metadata": {},
   "outputs": [],
   "source": [
    "# TODO: Write your code here to visualize the distribution of athlete Weight."
   ]
  },
  {
   "cell_type": "markdown",
   "id": "43a9d67e",
   "metadata": {},
   "source": [
    "---\n",
    "## Task 3.5 Visualize the Distribution in Height of Male and Female Athletes\n",
    "\n",
    "Create a visualization showing the height distribution (counts, frequencies) of Male and Female athletes.\n",
    "\n",
    "<details>\n",
    "<summary>View a similar (not necessarily identical) visualization so you know what you are aiming for (click to expand)</summary>\n",
    "\n",
    "> <img src=\"figures/task_3_5.png\" width=600></img>\n",
    "\n",
    "</details>"
   ]
  },
  {
   "cell_type": "code",
   "execution_count": 60,
   "id": "ff36024d",
   "metadata": {},
   "outputs": [],
   "source": [
    "# TODO: Write your code here to visualize the distribution in height of Male and Female athletes."
   ]
  },
  {
   "cell_type": "markdown",
   "id": "0125a9e4",
   "metadata": {},
   "source": [
    "---\n",
    "## Task 3.6 Visualize the Height per Type of Medal for Male and Female Athletes\n",
    "\n",
    "Create a visualization showing the athelete height per type of medal (gold, silver, bronze) for Male and Female athletes.\n",
    "\n",
    "<details>\n",
    "<summary>View a similar (not necessarily identical) visualization so you know what you are aiming for (click to expand)</summary>\n",
    "\n",
    "> <img src=\"figures/task_3_6.png\" width=600></img>\n",
    "\n",
    "</details>"
   ]
  },
  {
   "cell_type": "code",
   "execution_count": 61,
   "id": "c1f224e1",
   "metadata": {},
   "outputs": [],
   "source": [
    "# TODO: Write your code here to visualize the athelete height per type of medal for Male and Female athletes."
   ]
  },
  {
   "cell_type": "markdown",
   "id": "c676715f",
   "metadata": {},
   "source": [
    "---\n",
    "## Task 3.7 Visualize the Weight per Type of Medal for Male and Female Athletes\n",
    "\n",
    "Create a visualization showing the athelete weight per type of medal (gold, silver, bronze) for Male and Female athletes.\n",
    "\n",
    "<details>\n",
    "<summary>View a similar (not necessarily identical) visualization so you know what you are aiming for (click to expand)</summary>\n",
    "\n",
    "> <img src=\"figures/task_3_7.png\" width=600></img>\n",
    "\n",
    "</details>"
   ]
  },
  {
   "cell_type": "code",
   "execution_count": 62,
   "id": "f32c7778",
   "metadata": {},
   "outputs": [],
   "source": [
    "# TODO: Write your code here to visualize the athelete weight per type of medal for Male and Female athletes."
   ]
  },
  {
   "cell_type": "markdown",
   "id": "467022e4",
   "metadata": {},
   "source": [
    "---\n",
    "## Task 3.8 Visualize Height per Type of Medal for Male and Female Athletes Faceted by Season\n",
    "\n",
    "Create a visualization showing the athelete height per type of medal (gold, silver, bronze) for Male and Female athletes, faceted (grouped) by Season (Summer, Winter).\n",
    "\n",
    "<details>\n",
    "<summary>View a similar (not necessarily identical) visualization so you know what you are aiming for (click to expand)</summary>\n",
    "\n",
    "> <img src=\"figures/task_3_8.png\" width=1100></img>\n",
    "\n",
    "</details>"
   ]
  },
  {
   "cell_type": "code",
   "execution_count": 63,
   "id": "312e504c",
   "metadata": {},
   "outputs": [],
   "source": [
    "# TODO: Write your code here to visualize the athelete height per type of medal for Male and Female athletes, grouped (faceted) by Season."
   ]
  },
  {
   "cell_type": "markdown",
   "id": "a9778427",
   "metadata": {},
   "source": [
    "---\n",
    "## Task 3.9 Visualize the Average Age per Sport\n",
    "\n",
    "Create a visualization showing the average athelete Age per Sport (Curling, Triathlon, Handball, Tennis, Gymastics, Football, etc.).\n",
    "\n",
    "<details>\n",
    "<summary>View a similar (not necessarily identical) visualization so you know what you are aiming for (click to expand)</summary>\n",
    "\n",
    "> <img src=\"figures/task_3_9.png\" width=1500></img>\n",
    "\n",
    "</details>"
   ]
  },
  {
   "cell_type": "code",
   "execution_count": 64,
   "id": "4727518d",
   "metadata": {},
   "outputs": [],
   "source": [
    "# TODO: Write your code here to visualize the average athelete Age per Sport."
   ]
  },
  {
   "cell_type": "markdown",
   "id": "1ddea4b6",
   "metadata": {},
   "source": [
    "---\n",
    "## Task 3.10 Visualize the Top 10 Countries (Regions) with Most Total Medals\n",
    "\n",
    "Create a visualization showing the number of total medals (gold, silver and bronze) awarded per country (region), for the top ten countries (regions) with most medals.\n",
    "\n",
    "<details>\n",
    "<summary>View a similar (not necessarily identical) visualization so you know what you are aiming for (click to expand)</summary>\n",
    "\n",
    "> <img src=\"figures/task_3_10.png\" width=1000></img>\n",
    "\n",
    "</details>"
   ]
  },
  {
   "cell_type": "code",
   "execution_count": 65,
   "id": "977a755a",
   "metadata": {},
   "outputs": [],
   "source": [
    "# TODO: Write your code here to visualize the top 10 countries (regions) with most total medals."
   ]
  },
  {
   "cell_type": "markdown",
   "id": "bc626c36",
   "metadata": {},
   "source": [
    "---\n",
    "## Task 3.11 Visualize the Top 10 Atheletes by Total Awarded Medals\n",
    "\n",
    "Create a visualization showing the top ten athletes by total number of awarded medals (gold, silver and bronze).\n",
    "\n",
    "<details>\n",
    "<summary>View a similar (not necessarily identical) visualization so you know what you are aiming for (click to expand)</summary>\n",
    "\n",
    "> <img src=\"figures/task_3_11.png\" width=1000></img>\n",
    "\n",
    "</details>"
   ]
  },
  {
   "cell_type": "code",
   "execution_count": 66,
   "id": "6c58d9de",
   "metadata": {},
   "outputs": [],
   "source": [
    "# TODO: Write your code here to visualize the top 10 athletes per total awarded Medals."
   ]
  },
  {
   "cell_type": "markdown",
   "id": "d5f54e23",
   "metadata": {},
   "source": [
    "---\n",
    "## Task 3.12 Visualize the Age, Height and Weight Distribution per Type of Medal\n",
    "\n",
    "Create three `subplots`, side-by-side, for comparison purposes:\n",
    "1. Create a visualization using a `boxplot` showing the Age distribution per medal type (gold, silver and bronze).\n",
    "2. Create a visualization using a `boxplot` showing the Height distribution per medal type (gold, silver and bronze).\n",
    "3. Create a visualization using a `boxplot` showing the Weight distribution per medal type (gold, silver and bronze).\n",
    "\n",
    "<details>\n",
    "<summary>View a similar (not necessarily identical) visualization so you know what you are aiming for (click to expand)</summary>\n",
    "\n",
    "> <img src=\"figures/task_3_12.png\" width=1500></img>\n",
    "\n",
    "</details>"
   ]
  },
  {
   "cell_type": "code",
   "execution_count": 67,
   "id": "ec1b0e52",
   "metadata": {},
   "outputs": [],
   "source": [
    "# TODO: Write your code here to visualize the Age, Height and Weight distribution per type of Medal."
   ]
  },
  {
   "cell_type": "markdown",
   "id": "4a86e5fa",
   "metadata": {},
   "source": [
    "---\n",
    "## Task 3.13 Interpret a Box Plot's Visual Elements\n",
    "\n",
    "A Box Plot (a.k.a. Box-and-Whiskers Plot) resembles a \"Box\" with \"Whiskers\" extending from the \"Box\" and usually some points below and above the \"Whiskers\".\n",
    "\n",
    "What information is shown in a  Box plot?\n",
    "\n",
    "- What does the \"Box\" represent?\n",
    "- What does the \"line\" inside the \"Box\" represent?\n",
    "- What does \"Box's\" lower \"line\" (bottom of the \"Box\") represent?\n",
    "- What does \"Box's\" upper \"line\" (top of the \"Box\") represent?\n",
    "- What does the lower \"whisker\" represent?\n",
    "- What does the upper \"whisker\" represent?\n",
    "- What do the data points below the lower \"whisker\" and above the upper \"whisker\" represent?"
   ]
  },
  {
   "cell_type": "code",
   "execution_count": 68,
   "id": "247acf99",
   "metadata": {},
   "outputs": [],
   "source": [
    "# TODO: Write your answer here.\n",
    "\n",
    "# The \"Box\" represents ...\n",
    "# The \"line\" inside the \"Box\" represents ...\n",
    "# THe \"Box's\" lower \"line\" (bottom of the \"Box\") represents ...\n",
    "# The \"Box's\" upper \"line\" (top of the \"Box\") represents ...\n",
    "# The lower \"whisker\" represents ...\n",
    "# The upper \"whisker\" represents ...\n",
    "# The data points below the lower \"whisker\" and above the upper \"whisker\" represent ..."
   ]
  },
  {
   "cell_type": "markdown",
   "id": "97e031e2",
   "metadata": {},
   "source": [
    "---\n",
    "# Task 4: Trend Visualizations\n",
    "---"
   ]
  },
  {
   "cell_type": "markdown",
   "id": "5d2f63b4",
   "metadata": {},
   "source": [
    "Use the [Matplotlib Gallery](https://matplotlib.org/stable/gallery/index.html) and [Seaborn Gallery](https://seaborn.pydata.org/examples/index.html) to consult the documentation and view code examples, if needed.\n",
    "- You can use either Matplotlib or Seaborn (or both) to create your plots.\n",
    "- When creating your plots, consider the **Semiology of graphical symbols**, i.e. the eight ways for graphical objects to encode information:\n",
    "  - Position\n",
    "  - Shape\n",
    "  - Size\n",
    "  - Brightness\n",
    "  - Color\n",
    "  - Orientation\n",
    "  - Texture\n",
    "  - Motion\n",
    "- Also consider the **expressiveness** and **effectiveness** of your visualizations, i.e.:\n",
    "  - Make sure you are expressing (mapping) the underlying data with your visual elements appropriately.\n",
    "  - Make sure you are not including too much information in your visualizations to make them more intuitive and more comprehensible to the user.\n",
    "- Reflect, mentally, on your visualizations.\n",
    "  - Are you using an appropriate plot?\n",
    "    - This might also include subplots.\n",
    "  - Are you using position, shape, size, color, etc. (semiology) appropriately?\n",
    "    - Are you using an appropriate color scale (color map)?\n",
    "    - Have you considered appropriate colors for color blindness?\n",
    "  - Is all the necessary (but not too much) information included in the visualization?\n",
    "    - This might also include figure titles, axis labels, legends, colorbars, etc.\n",
    "  - Is your mapping from data to visual elements appropriate?\n",
    "    - Does your visualization give a correct, or false, representation of the underlying data?\n",
    "  - When you look at your visualizations, how intuitive and comprehensible are they?\n",
    "    - Will a user quickly understand what the visualization is about?\n",
    "    - Will a user quickly discover important patterns?\n",
    "    - Will the user be able to quickly analyze the information?\n",
    "- Use *data mangling* to put the data into an appropriate format before creating a visualization.\n",
    "  - You can use a DataFrame's `groupby()` method (with or without aggrations), slicing, etc. before creating a visualization (it depends on what you are visualizing).\n",
    "\n",
    "**Recommended reading (not mandatory)**\n",
    "\n",
    "Franconeri, Padilla, Shah, Zacks & Hullman. (2021). The Science of Visual Data Communication: What Works, Psychological Science in the Public Interest, 22(3), 110-161. DOI: 10.1177/15291006211051956.\n",
    "[https://journals.sagepub.com/doi/10.1177/15291006211051956](https://journals.sagepub.com/doi/10.1177/15291006211051956)"
   ]
  },
  {
   "cell_type": "markdown",
   "id": "10adf90a",
   "metadata": {},
   "source": [
    "---\n",
    "## Task 4.1 Visualize Body Mass Index (BMI) Over Time\n",
    "\n",
    "Create a visualization showing the Body Mass Index (BMI) over time (years) for Male and Female athletes.\n",
    "\n",
    "<details>\n",
    "<summary>View a similar (not necessarily identical) visualization so you know what you are aiming for (click to expand)</summary>\n",
    "\n",
    "> <img src=\"figures/task_4_1.png\" width=1200></img>\n",
    "\n",
    "</details>"
   ]
  },
  {
   "cell_type": "code",
   "execution_count": 10,
   "id": "33d6d7b3",
   "metadata": {},
   "outputs": [
    {
     "data": {
      "text/plain": [
       "Text(0.5, 0, 'År')"
      ]
     },
     "execution_count": 10,
     "metadata": {},
     "output_type": "execute_result"
    },
    {
     "data": {
      "image/png": "[encoded data removed]",
      "text/plain": [
       "<Figure size 1200x600 with 1 Axes>"
      ]
     },
     "metadata": {},
     "output_type": "display_data"
    }
   ],
   "source": [
    "# # TODO: Write your code here to visualize Body Mass Index (BMI) over time (years) per Sex (Male, Female).\n",
    "\n",
    "# Gruppera BMI per år och kön\n",
    "BMI_Year = df.groupby([\"Year\", \"Sex\"])[\"BMI\"].mean().reset_index()\n",
    "\n",
    "# Plotta\n",
    "plt.figure(figsize=(12,6))\n",
    "sns.lineplot(data=BMI_Year, x=\"Year\", y=\"BMI\", hue=\"Sex\")\n",
    "plt.title(\"Genomsnittligt BMI över tid per kön\")\n",
    "plt.ylabel(\"BMI\")\n",
    "plt.xlabel(\"År\")\n",
    "\n",
    "\n",
    "\n"
   ]
  },
  {
   "cell_type": "markdown",
   "id": "3c1f6f53",
   "metadata": {},
   "source": [
    "---\n",
    "## Task 4.2 Visualize Gender (Sex) Participation Over Time\n",
    "\n",
    "Create a visualization showing the number of Male and Female athletes over time (years).\n",
    "\n",
    "<details>\n",
    "<summary>View a similar (not necessarily identical) visualization so you know what you are aiming for (click to expand)</summary>\n",
    "\n",
    "> <img src=\"figures/task_4_2.png\" width=1200></img>\n",
    "\n",
    "</details>"
   ]
  },
  {
   "cell_type": "code",
   "execution_count": 11,
   "id": "7e49116a",
   "metadata": {},
   "outputs": [
    {
     "data": {
      "text/plain": [
       "Text(0.5, 0, 'År')"
      ]
     },
     "execution_count": 11,
     "metadata": {},
     "output_type": "execute_result"
    },
    {
     "data": {
      "image/png": "[encoded data removed]",
      "text/plain": [
       "<Figure size 1200x600 with 1 Axes>"
      ]
     },
     "metadata": {},
     "output_type": "display_data"
    }
   ],
   "source": [
    "# TODO: Write your code here to visualize gender participation over time.\n",
    "\n",
    "\n",
    "\n",
    "# Gruppera BMI per år och kön\n",
    "Number = df.groupby([\"Year\",\"Sex\"])[\"ID\"].count().reset_index()\n",
    "\n",
    "# Plotta\n",
    "plt.figure(figsize=(12,6))\n",
    "sns.lineplot(data=Number, x=\"Year\", y=\"ID\", hue=\"Sex\")\n",
    "plt.title(\"Antal kön över tid\")\n",
    "plt.ylabel(\"Antal Kön\")\n",
    "plt.xlabel(\"År\")\n",
    "\n"
   ]
  },
  {
   "cell_type": "markdown",
   "id": "29c1c2f6",
   "metadata": {},
   "source": [
    "---\n",
    "# Task 5: Correlation Visualizations\n",
    "---"
   ]
  },
  {
   "cell_type": "markdown",
   "id": "08134cf6",
   "metadata": {},
   "source": [
    "Use the [Matplotlib Gallery](https://matplotlib.org/stable/gallery/index.html) and [Seaborn Gallery](https://seaborn.pydata.org/examples/index.html) to consult the documentation and view code examples, if needed.\n",
    "- You can use either Matplotlib or Seaborn (or both) to create your plots.\n",
    "- When creating your plots, consider the **Semiology of graphical symbols**, i.e. the eight ways for graphical objects to encode information:\n",
    "  - Position\n",
    "  - Shape\n",
    "  - Size\n",
    "  - Brightness\n",
    "  - Color\n",
    "  - Orientation\n",
    "  - Texture\n",
    "  - Motion\n",
    "- Also consider the **expressiveness** and **effectiveness** of your visualizations, i.e.:\n",
    "  - Make sure you are expressing (mapping) the underlying data with your visual elements appropriately.\n",
    "  - Make sure you are not including too much information in your visualizations to make them more intuitive and more comprehensible to the user.\n",
    "- Reflect, mentally, on your visualizations.\n",
    "  - Are you using an appropriate plot?\n",
    "    - This might also include subplots.\n",
    "  - Are you using position, shape, size, color, etc. (semiology) appropriately?\n",
    "    - Are you using an appropriate color scale (color map)?\n",
    "    - Have you considered appropriate colors for color blindness?\n",
    "  - Is all the necessary (but not too much) information included in the visualization?\n",
    "    - This might also include figure titles, axis labels, legends, colorbars, etc.\n",
    "  - Is your mapping from data to visual elements appropriate?\n",
    "    - Does your visualization give a correct, or false, representation of the underlying data?\n",
    "  - When you look at your visualizations, how intuitive and comprehensible are they?\n",
    "    - Will a user quickly understand what the visualization is about?\n",
    "    - Will a user quickly discover important patterns?\n",
    "    - Will the user be able to quickly analyze the information?\n",
    "- Use *data mangling* to put the data into an appropriate format before creating a visualization.\n",
    "  - You can use a DataFrame's `groupby()` method (with or without aggrations), slicing, etc. before creating a visualization (it depends on what you are visualizing).\n",
    "\n",
    "**Recommended reading (not mandatory)**\n",
    "\n",
    "Franconeri, Padilla, Shah, Zacks & Hullman. (2021). The Science of Visual Data Communication: What Works, Psychological Science in the Public Interest, 22(3), 110-161. DOI: 10.1177/15291006211051956.\n",
    "[https://journals.sagepub.com/doi/10.1177/15291006211051956](https://journals.sagepub.com/doi/10.1177/15291006211051956)"
   ]
  },
  {
   "cell_type": "markdown",
   "id": "c1177565",
   "metadata": {},
   "source": [
    "---\n",
    "## Task 5.1 Visualize Pairwise Correlations of Athlete's Age, Height and Weight per Sex with a `pairplot`\n",
    "\n",
    "Create a `pairplot` showing the pariwise correlations of athlete Age, Height and Weight, color-coded by Sex (Male, Female).\n",
    "\n",
    "<details>\n",
    "<summary>View a similar (not necessarily identical) visualization so you know what you are aiming for (click to expand)</summary>\n",
    "\n",
    "> <img src=\"figures/task_5_1.png\" width=800></img>\n",
    "\n",
    "</details>"
   ]
  },
  {
   "cell_type": "code",
   "execution_count": 1,
   "id": "44a65b82",
   "metadata": {},
   "outputs": [
    {
     "ename": "NameError",
     "evalue": "name 'df' is not defined",
     "output_type": "error",
     "traceback": [
      "\u001b[31m---------------------------------------------------------------------------\u001b[39m",
      "\u001b[31mNameError\u001b[39m                                 Traceback (most recent call last)",
      "\u001b[36mCell\u001b[39m\u001b[36m \u001b[39m\u001b[32mIn[1]\u001b[39m\u001b[32m, line 5\u001b[39m\n\u001b[32m      1\u001b[39m \u001b[38;5;66;03m# TODO: Write your code here to visualize pairwise correlations of athlete Age, Height and Weight per Sex using a pair plot.\u001b[39;00m\n\u001b[32m      2\u001b[39m \n\u001b[32m      3\u001b[39m \n\u001b[32m      4\u001b[39m \u001b[38;5;66;03m# Ta bara kolumner vi är intresserade av\u001b[39;00m\n\u001b[32m----> \u001b[39m\u001b[32m5\u001b[39m sub = \u001b[43mdf\u001b[49m[[\u001b[33m\"\u001b[39m\u001b[33mAge\u001b[39m\u001b[33m\"\u001b[39m, \u001b[33m\"\u001b[39m\u001b[33mHeight\u001b[39m\u001b[33m\"\u001b[39m, \u001b[33m\"\u001b[39m\u001b[33mWeight\u001b[39m\u001b[33m\"\u001b[39m, \u001b[33m\"\u001b[39m\u001b[33mSex\u001b[39m\u001b[33m\"\u001b[39m]].dropna()\n\u001b[32m      7\u001b[39m sns.pairplot(sub, \u001b[38;5;28mvars\u001b[39m=[\u001b[33m\"\u001b[39m\u001b[33mAge\u001b[39m\u001b[33m\"\u001b[39m, \u001b[33m\"\u001b[39m\u001b[33mHeight\u001b[39m\u001b[33m\"\u001b[39m, \u001b[33m\"\u001b[39m\u001b[33mWeight\u001b[39m\u001b[33m\"\u001b[39m], hue=\u001b[33m\"\u001b[39m\u001b[33mSex\u001b[39m\u001b[33m\"\u001b[39m, height=\u001b[32m2.5\u001b[39m)\n",
      "\u001b[31mNameError\u001b[39m: name 'df' is not defined"
     ]
    }
   ],
   "source": [
    "# TODO: Write your code here to visualize pairwise correlations of athlete Age, Height and Weight per Sex using a pair plot.\n",
    "\n",
    "\n",
    "# Ta bara kolumner vi är intresserade av\n",
    "sub = df[[\"Age\", \"Height\", \"Weight\", \"Sex\"]].dropna()\n",
    "\n",
    "sns.pairplot(sub, vars=[\"Age\", \"Height\", \"Weight\"], hue=\"Sex\", height=2.5)\n",
    "\n"
   ]
  },
  {
   "cell_type": "markdown",
   "id": "44fc84ad",
   "metadata": {},
   "source": [
    "---\n",
    "## Task 5.2 Visualize Pairwise Correlations of the Numeric Features with a `heatmap`\n",
    "\n",
    "Create a `heatmap` showing the pariwise correlations of the numeric features (columns).\n",
    "- The numeric features (columns) are `ID`, `Age`, `Height`, `Weight`, `BMI`, `Latitude`, `Longitude`, and `Year`.\n",
    "- Hint: a Pandas DataFrame has a `corr()` method.\n",
    "\n",
    "<details>\n",
    "<summary>View a similar (not necessarily identical) visualization so you know what you are aiming for (click to expand)</summary>\n",
    "\n",
    "> <img src=\"figures/task_5_2.png\" width=700></img>\n",
    "\n",
    "</details>"
   ]
  },
  {
   "cell_type": "code",
   "execution_count": 2,
   "id": "86d4b6bc",
   "metadata": {},
   "outputs": [
    {
     "ename": "NameError",
     "evalue": "name 'df' is not defined",
     "output_type": "error",
     "traceback": [
      "\u001b[31m---------------------------------------------------------------------------\u001b[39m",
      "\u001b[31mNameError\u001b[39m                                 Traceback (most recent call last)",
      "\u001b[36mCell\u001b[39m\u001b[36m \u001b[39m\u001b[32mIn[2]\u001b[39m\u001b[32m, line 5\u001b[39m\n\u001b[32m      1\u001b[39m \u001b[38;5;66;03m# TODO: Write your code here to visualize pairwise correlations of the numeric featues (columns) using a heat map.\u001b[39;00m\n\u001b[32m----> \u001b[39m\u001b[32m5\u001b[39m subset_df = \u001b[43mdf\u001b[49m[[\u001b[33m'\u001b[39m\u001b[33mAge\u001b[39m\u001b[33m'\u001b[39m, \u001b[33m'\u001b[39m\u001b[33mWeight\u001b[39m\u001b[33m'\u001b[39m, \u001b[33m'\u001b[39m\u001b[33mHeight\u001b[39m\u001b[33m'\u001b[39m,\u001b[33m'\u001b[39m\u001b[33mBMI\u001b[39m\u001b[33m'\u001b[39m,\u001b[33m'\u001b[39m\u001b[33mLatitude\u001b[39m\u001b[33m'\u001b[39m,\u001b[33m'\u001b[39m\u001b[33mYear\u001b[39m\u001b[33m'\u001b[39m]]\n\u001b[32m      6\u001b[39m sns.heatmap(subset_df.corr())\n",
      "\u001b[31mNameError\u001b[39m: name 'df' is not defined"
     ]
    }
   ],
   "source": [
    "# TODO: Write your code here to visualize pairwise correlations of the numeric featues (columns) using a heat map.\n",
    "\n",
    "\n",
    "\n",
    "subset_df = df[['Age', 'Weight', 'Height','BMI','Latitude','Year']]\n",
    "sns.heatmap(subset_df.corr())"
   ]
  },
  {
   "cell_type": "markdown",
   "id": "fbb76075",
   "metadata": {},
   "source": [
    "---\n",
    "## Task 5.3 Visualize Atheltes' Weight versus Height per Sex with a `lineplot`\n",
    "\n",
    "Create a visualization showing the athelete Weight versus Height per Sex (Male, Female) using a `lineplot`.\n",
    "\n",
    "<details>\n",
    "<summary>View a similar (not necessarily identical) visualization so you know what you are aiming for (click to expand)</summary>\n",
    "\n",
    "> <img src=\"figures/task_5_3.png\" width=1400></img>\n",
    "\n",
    "</details>"
   ]
  },
  {
   "cell_type": "code",
   "execution_count": 73,
   "id": "562c075e",
   "metadata": {},
   "outputs": [],
   "source": [
    "# TODO: Write your code here to visualize athlete Weight versus Height per Sex (Male, Female) using a line plot."
   ]
  },
  {
   "cell_type": "markdown",
   "id": "e812ff95",
   "metadata": {},
   "source": [
    "---\n",
    "## Task 5.4 Visualize Atheltes' Weight versus Height per Sex with a `scatterplot`\n",
    "\n",
    "Create a visualization showing the athelete Weight versus Height per Sex (Male, Female) using a `scatterplot`.\n",
    "\n",
    "<details>\n",
    "<summary>View a similar (not necessarily identical) visualization so you know what you are aiming for (click to expand)</summary>\n",
    "\n",
    "> <img src=\"figures/task_5_4.png\" width=700></img>\n",
    "\n",
    "</details>"
   ]
  },
  {
   "cell_type": "code",
   "execution_count": 74,
   "id": "0ca7f232",
   "metadata": {},
   "outputs": [],
   "source": [
    "# TODO: Write your code here to visualize athlete Weight versus Height per Sex (Male, Female) using a scatter plot."
   ]
  },
  {
   "cell_type": "markdown",
   "id": "0f0cf48b",
   "metadata": {},
   "source": [
    "---\n",
    "# Task 6: Map Visualizations\n",
    "---"
   ]
  },
  {
   "cell_type": "markdown",
   "id": "55b2e5c6",
   "metadata": {},
   "source": [
    "Use the [Matplotlib Gallery](https://matplotlib.org/stable/gallery/index.html) and [Seaborn Gallery](https://seaborn.pydata.org/examples/index.html) to consult the documentation and view code examples, if needed.\n",
    "- You can use either Matplotlib or Seaborn (or both) to create your plots.\n",
    "- When creating your plots, consider the **Semiology of graphical symbols**, i.e. the eight ways for graphical objects to encode information:\n",
    "  - Position\n",
    "  - Shape\n",
    "  - Size\n",
    "  - Brightness\n",
    "  - Color\n",
    "  - Orientation\n",
    "  - Texture\n",
    "  - Motion\n",
    "- Also consider the **expressiveness** and **effectiveness** of your visualizations, i.e.:\n",
    "  - Make sure you are expressing (mapping) the underlying data with your visual elements appropriately.\n",
    "  - Make sure you are not including too much information in your visualizations to make them more intuitive and more comprehensible to the user.\n",
    "- Reflect, mentally, on your visualizations.\n",
    "  - Are you using an appropriate plot?\n",
    "    - This might also include subplots.\n",
    "  - Are you using position, shape, size, color, etc. (semiology) appropriately?\n",
    "    - Are you using an appropriate color scale (color map)?\n",
    "    - Have you considered appropriate colors for color blindness?\n",
    "  - Is all the necessary (but not too much) information included in the visualization?\n",
    "    - This might also include figure titles, axis labels, legends, colorbars, etc.\n",
    "  - Is your mapping from data to visual elements appropriate?\n",
    "    - Does your visualization give a correct, or false, representation of the underlying data?\n",
    "  - When you look at your visualizations, how intuitive and comprehensible are they?\n",
    "    - Will a user quickly understand what the visualization is about?\n",
    "    - Will a user quickly discover important patterns?\n",
    "    - Will the user be able to quickly analyze the information?\n",
    "- Use *data mangling* to put the data into an appropriate format before creating a visualization.\n",
    "  - You can use a DataFrame's `groupby()` method (with or without aggrations), slicing, etc. before creating a visualization (it depends on what you are visualizing).\n",
    "\n",
    "**Recommended reading (not mandatory)**\n",
    "\n",
    "Franconeri, Padilla, Shah, Zacks & Hullman. (2021). The Science of Visual Data Communication: What Works, Psychological Science in the Public Interest, 22(3), 110-161. DOI: 10.1177/15291006211051956.\n",
    "[https://journals.sagepub.com/doi/10.1177/15291006211051956](https://journals.sagepub.com/doi/10.1177/15291006211051956)"
   ]
  },
  {
   "cell_type": "markdown",
   "id": "0cd7a072",
   "metadata": {},
   "source": [
    "---\n",
    "## Task 6.1 Visualize Number of Medals on a Map for the Nordic Countries\n",
    "\n",
    "Create a visualization showing the number of Medals awarded for the nordic countries (Sweden, Norway, Denmark, Finland).\n",
    "\n",
    "<details>\n",
    "<summary>View a similar (not necessarily identical) visualization so you know what you are aiming for (click to expand)</summary>\n",
    "\n",
    "> <img src=\"figures/task_6_1.png\" width=800></img>\n",
    "\n",
    "</details>"
   ]
  },
  {
   "cell_type": "code",
   "execution_count": 75,
   "id": "8184c1d5",
   "metadata": {},
   "outputs": [],
   "source": [
    "# TODO: Write your code here to visualize the number of Medals on a Map for the nordic countries."
   ]
  },
  {
   "cell_type": "markdown",
   "id": "3bb19483",
   "metadata": {},
   "source": [
    "---\n",
    "# Task 7: Submission\n",
    "---"
   ]
  },
  {
   "cell_type": "markdown",
   "id": "ca47c4ee",
   "metadata": {},
   "source": [
    "## Task 7.1 Verify the Integrity of your Notebook"
   ]
  },
  {
   "cell_type": "markdown",
   "id": "75fdcf65",
   "metadata": {},
   "source": [
    "The final task is to verify your Notebook before submitting it, and of course submitting it via Canvas.\n",
    "\n",
    "- Have you included any additional packages you might have used in your Notebook under [Python Packages](#python-packages)?\n",
    "- Have you imported any additional modules you might have used in your Notebook under [Python Modules](#python-modules)?\n",
    "- Is your Pandas DataFrame (`df`) identical to the DataFrame `df_verify` under [Task 1.1 Data Loading, Data Fusion, Data Cleaning, and Feature Engineering](#task-11-data-loading-data-fusion-data-cleaning-and-feature-engineering)?\n",
    "- Have you completed all tasks (`TODOs`) in the Notebook?\n",
    "- Have you reflected over your visualizations (semiology, expressiveness, effectiveness, etc.)?\n",
    "\n",
    "When you are done:\n",
    "- Click the `Restart` button at the top of the Notebook to restart the Jupyter Notebook kernel.\n",
    "- Then click the `Run All` button at the top of the Notebook, to execute all Notebook cells.\n",
    "  - Check that all Notebook cells executed successfully with the desired results."
   ]
  },
  {
   "cell_type": "markdown",
   "id": "064596a9",
   "metadata": {},
   "source": [
    "---\n",
    "## Task 7.2 Submit the Assignment"
   ]
  },
  {
   "cell_type": "markdown",
   "id": "2b3e9657",
   "metadata": {},
   "source": [
    "- Save you Notebook and submit it via [Canvas](https://hb.instructure.com/courses/10009/assignments/40722) before the deadline (only submit one `.ipynb` file)."
   ]
  },
  {
   "cell_type": "markdown",
   "id": "f75fa0a3",
   "metadata": {},
   "source": []
  }
 ],
 "metadata": {
  "kernelspec": {
   "display_name": "Python 3",
   "language": "python",
   "name": "python3"
  },
  "language_info": {
   "codemirror_mode": {
    "name": "ipython",
    "version": 3
   },
   "file_extension": ".py",
   "mimetype": "text/x-python",
   "name": "python",
   "nbconvert_exporter": "python",
   "pygments_lexer": "ipython3",
   "version": "3.12.11"
  }
 },
 "nbformat": 4,
 "nbformat_minor": 5
}
